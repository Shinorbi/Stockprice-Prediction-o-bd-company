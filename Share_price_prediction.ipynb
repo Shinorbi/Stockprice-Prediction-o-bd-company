{
  "nbformat": 4,
  "nbformat_minor": 0,
  "metadata": {
    "colab": {
      "name": "Share_price_prediction.ipynb",
      "provenance": [],
      "collapsed_sections": []
    },
    "kernelspec": {
      "name": "python3",
      "display_name": "Python 3"
    },
    "language_info": {
      "name": "python"
    }
  },
  "cells": [
    {
      "cell_type": "code",
      "metadata": {
        "colab": {
          "base_uri": "https://localhost:8080/"
        },
        "id": "O6fO359TBVpd",
        "outputId": "09ab3f00-e781-4ec3-a50c-a1b8805638c5"
      },
      "source": [
        "from google.colab import drive\n",
        "drive.mount('/content/drive')"
      ],
      "execution_count": null,
      "outputs": [
        {
          "output_type": "stream",
          "text": [
            "Mounted at /content/drive\n"
          ],
          "name": "stdout"
        }
      ]
    },
    {
      "cell_type": "code",
      "metadata": {
        "id": "Gvh48jtKBdWP"
      },
      "source": [
        "import pandas as pd\n"
      ],
      "execution_count": null,
      "outputs": []
    },
    {
      "cell_type": "code",
      "metadata": {
        "id": "lE08s4zKCpU2"
      },
      "source": [
        "df = pd.read_csv('/content/drive/MyDrive/Feluda/Beximco 20Pharmaceuticals 20Ltd 20Historical 20Price 20Data 20(BXPH).csv')"
      ],
      "execution_count": null,
      "outputs": []
    },
    {
      "cell_type": "code",
      "metadata": {
        "colab": {
          "base_uri": "https://localhost:8080/",
          "height": 197
        },
        "id": "qoQyE3gqcAP9",
        "outputId": "c9bf88cf-8b7b-4524-c31c-43ed48e72ea4"
      },
      "source": [
        "df.tail()"
      ],
      "execution_count": null,
      "outputs": [
        {
          "output_type": "execute_result",
          "data": {
            "text/html": [
              "<div>\n",
              "<style scoped>\n",
              "    .dataframe tbody tr th:only-of-type {\n",
              "        vertical-align: middle;\n",
              "    }\n",
              "\n",
              "    .dataframe tbody tr th {\n",
              "        vertical-align: top;\n",
              "    }\n",
              "\n",
              "    .dataframe thead th {\n",
              "        text-align: right;\n",
              "    }\n",
              "</style>\n",
              "<table border=\"1\" class=\"dataframe\">\n",
              "  <thead>\n",
              "    <tr style=\"text-align: right;\">\n",
              "      <th></th>\n",
              "      <th>Date</th>\n",
              "      <th>Price</th>\n",
              "      <th>Open</th>\n",
              "      <th>High</th>\n",
              "      <th>Low</th>\n",
              "      <th>Vol.</th>\n",
              "      <th>Change %</th>\n",
              "    </tr>\n",
              "  </thead>\n",
              "  <tbody>\n",
              "    <tr>\n",
              "      <th>925</th>\n",
              "      <td>May 30, 2017</td>\n",
              "      <td>107.8</td>\n",
              "      <td>108.6</td>\n",
              "      <td>109.0</td>\n",
              "      <td>107.6</td>\n",
              "      <td>261.49K</td>\n",
              "      <td>-0.37</td>\n",
              "    </tr>\n",
              "    <tr>\n",
              "      <th>926</th>\n",
              "      <td>May 29, 2017</td>\n",
              "      <td>108.2</td>\n",
              "      <td>109.7</td>\n",
              "      <td>109.7</td>\n",
              "      <td>107.7</td>\n",
              "      <td>463.40K</td>\n",
              "      <td>-0.92</td>\n",
              "    </tr>\n",
              "    <tr>\n",
              "      <th>927</th>\n",
              "      <td>May 28, 2017</td>\n",
              "      <td>109.2</td>\n",
              "      <td>110.0</td>\n",
              "      <td>111.0</td>\n",
              "      <td>109.0</td>\n",
              "      <td>321.14K</td>\n",
              "      <td>-0.73</td>\n",
              "    </tr>\n",
              "    <tr>\n",
              "      <th>928</th>\n",
              "      <td>May 25, 2017</td>\n",
              "      <td>110.0</td>\n",
              "      <td>110.0</td>\n",
              "      <td>111.4</td>\n",
              "      <td>109.4</td>\n",
              "      <td>487.48K</td>\n",
              "      <td>0.27</td>\n",
              "    </tr>\n",
              "    <tr>\n",
              "      <th>929</th>\n",
              "      <td>May 24, 2017</td>\n",
              "      <td>109.7</td>\n",
              "      <td>107.8</td>\n",
              "      <td>110.0</td>\n",
              "      <td>107.0</td>\n",
              "      <td>731.47K</td>\n",
              "      <td>2.43</td>\n",
              "    </tr>\n",
              "  </tbody>\n",
              "</table>\n",
              "</div>"
            ],
            "text/plain": [
              "             Date  Price   Open   High    Low     Vol.  Change %\n",
              "925  May 30, 2017  107.8  108.6  109.0  107.6  261.49K     -0.37\n",
              "926  May 29, 2017  108.2  109.7  109.7  107.7  463.40K     -0.92\n",
              "927  May 28, 2017  109.2  110.0  111.0  109.0  321.14K     -0.73\n",
              "928  May 25, 2017  110.0  110.0  111.4  109.4  487.48K      0.27\n",
              "929  May 24, 2017  109.7  107.8  110.0  107.0  731.47K      2.43"
            ]
          },
          "metadata": {
            "tags": []
          },
          "execution_count": 4
        }
      ]
    },
    {
      "cell_type": "code",
      "metadata": {
        "id": "SzLWiDrFC3SM"
      },
      "source": [
        "\n",
        "df1 = df\n",
        "df1 = df1.reindex(index=df1.index[::-1])\n"
      ],
      "execution_count": null,
      "outputs": []
    },
    {
      "cell_type": "code",
      "metadata": {
        "colab": {
          "base_uri": "https://localhost:8080/",
          "height": 197
        },
        "id": "ZFr5CWJjC5Pk",
        "outputId": "e6030ee9-671a-407f-f1c8-51f9c5ea13e6"
      },
      "source": [
        "df1.head()"
      ],
      "execution_count": null,
      "outputs": [
        {
          "output_type": "execute_result",
          "data": {
            "text/html": [
              "<div>\n",
              "<style scoped>\n",
              "    .dataframe tbody tr th:only-of-type {\n",
              "        vertical-align: middle;\n",
              "    }\n",
              "\n",
              "    .dataframe tbody tr th {\n",
              "        vertical-align: top;\n",
              "    }\n",
              "\n",
              "    .dataframe thead th {\n",
              "        text-align: right;\n",
              "    }\n",
              "</style>\n",
              "<table border=\"1\" class=\"dataframe\">\n",
              "  <thead>\n",
              "    <tr style=\"text-align: right;\">\n",
              "      <th></th>\n",
              "      <th>Date</th>\n",
              "      <th>Price</th>\n",
              "      <th>Open</th>\n",
              "      <th>High</th>\n",
              "      <th>Low</th>\n",
              "      <th>Vol.</th>\n",
              "      <th>Change %</th>\n",
              "    </tr>\n",
              "  </thead>\n",
              "  <tbody>\n",
              "    <tr>\n",
              "      <th>929</th>\n",
              "      <td>May 24, 2017</td>\n",
              "      <td>109.7</td>\n",
              "      <td>107.8</td>\n",
              "      <td>110.0</td>\n",
              "      <td>107.0</td>\n",
              "      <td>731.47K</td>\n",
              "      <td>2.43</td>\n",
              "    </tr>\n",
              "    <tr>\n",
              "      <th>928</th>\n",
              "      <td>May 25, 2017</td>\n",
              "      <td>110.0</td>\n",
              "      <td>110.0</td>\n",
              "      <td>111.4</td>\n",
              "      <td>109.4</td>\n",
              "      <td>487.48K</td>\n",
              "      <td>0.27</td>\n",
              "    </tr>\n",
              "    <tr>\n",
              "      <th>927</th>\n",
              "      <td>May 28, 2017</td>\n",
              "      <td>109.2</td>\n",
              "      <td>110.0</td>\n",
              "      <td>111.0</td>\n",
              "      <td>109.0</td>\n",
              "      <td>321.14K</td>\n",
              "      <td>-0.73</td>\n",
              "    </tr>\n",
              "    <tr>\n",
              "      <th>926</th>\n",
              "      <td>May 29, 2017</td>\n",
              "      <td>108.2</td>\n",
              "      <td>109.7</td>\n",
              "      <td>109.7</td>\n",
              "      <td>107.7</td>\n",
              "      <td>463.40K</td>\n",
              "      <td>-0.92</td>\n",
              "    </tr>\n",
              "    <tr>\n",
              "      <th>925</th>\n",
              "      <td>May 30, 2017</td>\n",
              "      <td>107.8</td>\n",
              "      <td>108.6</td>\n",
              "      <td>109.0</td>\n",
              "      <td>107.6</td>\n",
              "      <td>261.49K</td>\n",
              "      <td>-0.37</td>\n",
              "    </tr>\n",
              "  </tbody>\n",
              "</table>\n",
              "</div>"
            ],
            "text/plain": [
              "             Date  Price   Open   High    Low     Vol.  Change %\n",
              "929  May 24, 2017  109.7  107.8  110.0  107.0  731.47K      2.43\n",
              "928  May 25, 2017  110.0  110.0  111.4  109.4  487.48K      0.27\n",
              "927  May 28, 2017  109.2  110.0  111.0  109.0  321.14K     -0.73\n",
              "926  May 29, 2017  108.2  109.7  109.7  107.7  463.40K     -0.92\n",
              "925  May 30, 2017  107.8  108.6  109.0  107.6  261.49K     -0.37"
            ]
          },
          "metadata": {
            "tags": []
          },
          "execution_count": 6
        }
      ]
    },
    {
      "cell_type": "code",
      "metadata": {
        "colab": {
          "base_uri": "https://localhost:8080/",
          "height": 197
        },
        "id": "U1Jl0bE4C7sl",
        "outputId": "5a7e2202-4ec7-49dd-81b9-2f1180e44850"
      },
      "source": [
        "df1.tail()"
      ],
      "execution_count": null,
      "outputs": [
        {
          "output_type": "execute_result",
          "data": {
            "text/html": [
              "<div>\n",
              "<style scoped>\n",
              "    .dataframe tbody tr th:only-of-type {\n",
              "        vertical-align: middle;\n",
              "    }\n",
              "\n",
              "    .dataframe tbody tr th {\n",
              "        vertical-align: top;\n",
              "    }\n",
              "\n",
              "    .dataframe thead th {\n",
              "        text-align: right;\n",
              "    }\n",
              "</style>\n",
              "<table border=\"1\" class=\"dataframe\">\n",
              "  <thead>\n",
              "    <tr style=\"text-align: right;\">\n",
              "      <th></th>\n",
              "      <th>Date</th>\n",
              "      <th>Price</th>\n",
              "      <th>Open</th>\n",
              "      <th>High</th>\n",
              "      <th>Low</th>\n",
              "      <th>Vol.</th>\n",
              "      <th>Change %</th>\n",
              "    </tr>\n",
              "  </thead>\n",
              "  <tbody>\n",
              "    <tr>\n",
              "      <th>4</th>\n",
              "      <td>May 18, 2021</td>\n",
              "      <td>182.7</td>\n",
              "      <td>180.0</td>\n",
              "      <td>184.0</td>\n",
              "      <td>178.0</td>\n",
              "      <td>931.60K</td>\n",
              "      <td>2.76</td>\n",
              "    </tr>\n",
              "    <tr>\n",
              "      <th>3</th>\n",
              "      <td>May 19, 2021</td>\n",
              "      <td>177.9</td>\n",
              "      <td>183.0</td>\n",
              "      <td>183.4</td>\n",
              "      <td>177.3</td>\n",
              "      <td>1.72M</td>\n",
              "      <td>-2.63</td>\n",
              "    </tr>\n",
              "    <tr>\n",
              "      <th>2</th>\n",
              "      <td>May 20, 2021</td>\n",
              "      <td>177.0</td>\n",
              "      <td>178.2</td>\n",
              "      <td>180.9</td>\n",
              "      <td>175.3</td>\n",
              "      <td>1.10M</td>\n",
              "      <td>-0.51</td>\n",
              "    </tr>\n",
              "    <tr>\n",
              "      <th>1</th>\n",
              "      <td>May 23, 2021</td>\n",
              "      <td>173.4</td>\n",
              "      <td>178.2</td>\n",
              "      <td>179.0</td>\n",
              "      <td>172.4</td>\n",
              "      <td>1.36M</td>\n",
              "      <td>-2.03</td>\n",
              "    </tr>\n",
              "    <tr>\n",
              "      <th>0</th>\n",
              "      <td>May 24, 2021</td>\n",
              "      <td>173.3</td>\n",
              "      <td>175.8</td>\n",
              "      <td>176.3</td>\n",
              "      <td>172.7</td>\n",
              "      <td>727.87K</td>\n",
              "      <td>-0.06</td>\n",
              "    </tr>\n",
              "  </tbody>\n",
              "</table>\n",
              "</div>"
            ],
            "text/plain": [
              "           Date  Price   Open   High    Low     Vol.  Change %\n",
              "4  May 18, 2021  182.7  180.0  184.0  178.0  931.60K      2.76\n",
              "3  May 19, 2021  177.9  183.0  183.4  177.3    1.72M     -2.63\n",
              "2  May 20, 2021  177.0  178.2  180.9  175.3    1.10M     -0.51\n",
              "1  May 23, 2021  173.4  178.2  179.0  172.4    1.36M     -2.03\n",
              "0  May 24, 2021  173.3  175.8  176.3  172.7  727.87K     -0.06"
            ]
          },
          "metadata": {
            "tags": []
          },
          "execution_count": 7
        }
      ]
    },
    {
      "cell_type": "code",
      "metadata": {
        "colab": {
          "base_uri": "https://localhost:8080/",
          "height": 197
        },
        "id": "qHiIjbHwDIK_",
        "outputId": "d9745905-204b-4b57-b0cd-a585ec07a6d1"
      },
      "source": [
        "df1.head()"
      ],
      "execution_count": null,
      "outputs": [
        {
          "output_type": "execute_result",
          "data": {
            "text/html": [
              "<div>\n",
              "<style scoped>\n",
              "    .dataframe tbody tr th:only-of-type {\n",
              "        vertical-align: middle;\n",
              "    }\n",
              "\n",
              "    .dataframe tbody tr th {\n",
              "        vertical-align: top;\n",
              "    }\n",
              "\n",
              "    .dataframe thead th {\n",
              "        text-align: right;\n",
              "    }\n",
              "</style>\n",
              "<table border=\"1\" class=\"dataframe\">\n",
              "  <thead>\n",
              "    <tr style=\"text-align: right;\">\n",
              "      <th></th>\n",
              "      <th>Date</th>\n",
              "      <th>Price</th>\n",
              "      <th>Open</th>\n",
              "      <th>High</th>\n",
              "      <th>Low</th>\n",
              "      <th>Vol.</th>\n",
              "      <th>Change %</th>\n",
              "    </tr>\n",
              "  </thead>\n",
              "  <tbody>\n",
              "    <tr>\n",
              "      <th>929</th>\n",
              "      <td>May 24, 2017</td>\n",
              "      <td>109.7</td>\n",
              "      <td>107.8</td>\n",
              "      <td>110.0</td>\n",
              "      <td>107.0</td>\n",
              "      <td>731.47K</td>\n",
              "      <td>2.43</td>\n",
              "    </tr>\n",
              "    <tr>\n",
              "      <th>928</th>\n",
              "      <td>May 25, 2017</td>\n",
              "      <td>110.0</td>\n",
              "      <td>110.0</td>\n",
              "      <td>111.4</td>\n",
              "      <td>109.4</td>\n",
              "      <td>487.48K</td>\n",
              "      <td>0.27</td>\n",
              "    </tr>\n",
              "    <tr>\n",
              "      <th>927</th>\n",
              "      <td>May 28, 2017</td>\n",
              "      <td>109.2</td>\n",
              "      <td>110.0</td>\n",
              "      <td>111.0</td>\n",
              "      <td>109.0</td>\n",
              "      <td>321.14K</td>\n",
              "      <td>-0.73</td>\n",
              "    </tr>\n",
              "    <tr>\n",
              "      <th>926</th>\n",
              "      <td>May 29, 2017</td>\n",
              "      <td>108.2</td>\n",
              "      <td>109.7</td>\n",
              "      <td>109.7</td>\n",
              "      <td>107.7</td>\n",
              "      <td>463.40K</td>\n",
              "      <td>-0.92</td>\n",
              "    </tr>\n",
              "    <tr>\n",
              "      <th>925</th>\n",
              "      <td>May 30, 2017</td>\n",
              "      <td>107.8</td>\n",
              "      <td>108.6</td>\n",
              "      <td>109.0</td>\n",
              "      <td>107.6</td>\n",
              "      <td>261.49K</td>\n",
              "      <td>-0.37</td>\n",
              "    </tr>\n",
              "  </tbody>\n",
              "</table>\n",
              "</div>"
            ],
            "text/plain": [
              "             Date  Price   Open   High    Low     Vol.  Change %\n",
              "929  May 24, 2017  109.7  107.8  110.0  107.0  731.47K      2.43\n",
              "928  May 25, 2017  110.0  110.0  111.4  109.4  487.48K      0.27\n",
              "927  May 28, 2017  109.2  110.0  111.0  109.0  321.14K     -0.73\n",
              "926  May 29, 2017  108.2  109.7  109.7  107.7  463.40K     -0.92\n",
              "925  May 30, 2017  107.8  108.6  109.0  107.6  261.49K     -0.37"
            ]
          },
          "metadata": {
            "tags": []
          },
          "execution_count": 8
        }
      ]
    },
    {
      "cell_type": "code",
      "metadata": {
        "colab": {
          "base_uri": "https://localhost:8080/"
        },
        "id": "RezGTs6OEJ9R",
        "outputId": "b30d1a73-1165-4c34-d1e1-a9022e30a803"
      },
      "source": [
        "df.info()"
      ],
      "execution_count": null,
      "outputs": [
        {
          "output_type": "stream",
          "text": [
            "<class 'pandas.core.frame.DataFrame'>\n",
            "RangeIndex: 930 entries, 0 to 929\n",
            "Data columns (total 7 columns):\n",
            " #   Column    Non-Null Count  Dtype  \n",
            "---  ------    --------------  -----  \n",
            " 0   Date      930 non-null    object \n",
            " 1   Price     930 non-null    float64\n",
            " 2   Open      930 non-null    float64\n",
            " 3   High      930 non-null    float64\n",
            " 4   Low       930 non-null    float64\n",
            " 5   Vol.      930 non-null    object \n",
            " 6   Change %  930 non-null    float64\n",
            "dtypes: float64(5), object(2)\n",
            "memory usage: 51.0+ KB\n"
          ],
          "name": "stdout"
        }
      ]
    },
    {
      "cell_type": "code",
      "metadata": {
        "id": "p-6dJSkSERGS"
      },
      "source": [
        "maindf = df1.reset_index()['Price']"
      ],
      "execution_count": null,
      "outputs": []
    },
    {
      "cell_type": "code",
      "metadata": {
        "colab": {
          "base_uri": "https://localhost:8080/"
        },
        "id": "fhlEq6NEFaBK",
        "outputId": "943befa9-12ad-47dc-bd3b-e76cc903e011"
      },
      "source": [
        "\n",
        "maindf.head()"
      ],
      "execution_count": null,
      "outputs": [
        {
          "output_type": "execute_result",
          "data": {
            "text/plain": [
              "0    109.7\n",
              "1    110.0\n",
              "2    109.2\n",
              "3    108.2\n",
              "4    107.8\n",
              "Name: Price, dtype: float64"
            ]
          },
          "metadata": {
            "tags": []
          },
          "execution_count": 11
        }
      ]
    },
    {
      "cell_type": "code",
      "metadata": {
        "colab": {
          "base_uri": "https://localhost:8080/"
        },
        "id": "GG5czMzBFcbw",
        "outputId": "25866eac-9fdd-40b0-c5b4-c3654d6086c4"
      },
      "source": [
        "maindf.tail()"
      ],
      "execution_count": null,
      "outputs": [
        {
          "output_type": "execute_result",
          "data": {
            "text/plain": [
              "925    182.7\n",
              "926    177.9\n",
              "927    177.0\n",
              "928    173.4\n",
              "929    173.3\n",
              "Name: Price, dtype: float64"
            ]
          },
          "metadata": {
            "tags": []
          },
          "execution_count": 12
        }
      ]
    },
    {
      "cell_type": "code",
      "metadata": {
        "colab": {
          "base_uri": "https://localhost:8080/"
        },
        "id": "6BPxv922FoL2",
        "outputId": "79838213-3be7-44c3-f799-64c9f817eebc"
      },
      "source": [
        "maindf.shape"
      ],
      "execution_count": null,
      "outputs": [
        {
          "output_type": "execute_result",
          "data": {
            "text/plain": [
              "(930,)"
            ]
          },
          "metadata": {
            "tags": []
          },
          "execution_count": 13
        }
      ]
    },
    {
      "cell_type": "code",
      "metadata": {
        "colab": {
          "base_uri": "https://localhost:8080/",
          "height": 282
        },
        "id": "0QTs-fkJF9be",
        "outputId": "9364256a-0552-4b6e-c5f4-cb95dd2069f6"
      },
      "source": [
        "import matplotlib.pyplot as plt\n",
        "plt.plot(maindf)\n"
      ],
      "execution_count": null,
      "outputs": [
        {
          "output_type": "execute_result",
          "data": {
            "text/plain": [
              "[<matplotlib.lines.Line2D at 0x7f1d2c9a4b90>]"
            ]
          },
          "metadata": {
            "tags": []
          },
          "execution_count": 14
        },
        {
          "output_type": "display_data",
          "data": {
            "image/png": "[encoded data removed]",
            "text/plain": [
              "<Figure size 432x288 with 1 Axes>"
            ]
          },
          "metadata": {
            "tags": [],
            "needs_background": "light"
          }
        }
      ]
    },
    {
      "cell_type": "code",
      "metadata": {
        "colab": {
          "base_uri": "https://localhost:8080/",
          "height": 300
        },
        "id": "TJ7S75QYGC3h",
        "outputId": "2902a711-b1b8-4e3c-dfd4-e2c0d36fa633"
      },
      "source": [
        "plt.plot(maindf)\n",
        "plt.figure(figsize=(100,100))\n",
        "plt.show"
      ],
      "execution_count": null,
      "outputs": [
        {
          "output_type": "execute_result",
          "data": {
            "text/plain": [
              "<function matplotlib.pyplot.show>"
            ]
          },
          "metadata": {
            "tags": []
          },
          "execution_count": 15
        },
        {
          "output_type": "display_data",
          "data": {
            "image/png": "[encoded data removed]",
            "text/plain": [
              "<Figure size 432x288 with 1 Axes>"
            ]
          },
          "metadata": {
            "tags": [],
            "needs_background": "light"
          }
        },
        {
          "output_type": "display_data",
          "data": {
            "text/plain": [
              "<Figure size 7200x7200 with 0 Axes>"
            ]
          },
          "metadata": {
            "tags": []
          }
        }
      ]
    },
    {
      "cell_type": "code",
      "metadata": {
        "id": "99y7HU7oGH22"
      },
      "source": [
        "import numpy as np\n"
      ],
      "execution_count": null,
      "outputs": []
    },
    {
      "cell_type": "code",
      "metadata": {
        "id": "xWa_qXm_HQj9"
      },
      "source": [
        "from sklearn.preprocessing import MinMaxScaler\n"
      ],
      "execution_count": null,
      "outputs": []
    },
    {
      "cell_type": "code",
      "metadata": {
        "id": "WNUrHVnTHbSi"
      },
      "source": [
        "scaler = MinMaxScaler(feature_range=(0,1))\n",
        "maindf = scaler.fit_transform(np.array(maindf).reshape(-1,1))"
      ],
      "execution_count": null,
      "outputs": []
    },
    {
      "cell_type": "code",
      "metadata": {
        "colab": {
          "base_uri": "https://localhost:8080/"
        },
        "id": "grMtngYMIbIe",
        "outputId": "ebce09fb-afd9-4b24-ade3-51a134804df1"
      },
      "source": [
        "maindf.shape"
      ],
      "execution_count": null,
      "outputs": [
        {
          "output_type": "execute_result",
          "data": {
            "text/plain": [
              "(930, 1)"
            ]
          },
          "metadata": {
            "tags": []
          },
          "execution_count": 19
        }
      ]
    },
    {
      "cell_type": "code",
      "metadata": {
        "colab": {
          "base_uri": "https://localhost:8080/"
        },
        "id": "bKpeSCcsIcVh",
        "outputId": "d8cc5fc9-c193-43f2-beb6-b3ba71f04dfe"
      },
      "source": [
        "maindf[5]"
      ],
      "execution_count": null,
      "outputs": [
        {
          "output_type": "execute_result",
          "data": {
            "text/plain": [
              "array([0.37205554])"
            ]
          },
          "metadata": {
            "tags": []
          },
          "execution_count": 20
        }
      ]
    },
    {
      "cell_type": "code",
      "metadata": {
        "id": "4JOKh7AxI4kU"
      },
      "source": [
        "training_size = int(len(maindf)*0.6)\n",
        "test_size = len(maindf)-training_size"
      ],
      "execution_count": 140,
      "outputs": []
    },
    {
      "cell_type": "code",
      "metadata": {
        "colab": {
          "base_uri": "https://localhost:8080/"
        },
        "id": "4wZ1HQBJMY2z",
        "outputId": "f13cea45-9011-488c-ebc4-6a50e1598808"
      },
      "source": [
        "training_size"
      ],
      "execution_count": 141,
      "outputs": [
        {
          "output_type": "execute_result",
          "data": {
            "text/plain": [
              "558"
            ]
          },
          "metadata": {
            "tags": []
          },
          "execution_count": 141
        }
      ]
    },
    {
      "cell_type": "code",
      "metadata": {
        "colab": {
          "base_uri": "https://localhost:8080/"
        },
        "id": "g4B8fMs3Mafs",
        "outputId": "dbb93c53-a5a5-4aa2-a1ea-d9f6895648a7"
      },
      "source": [
        "test_size"
      ],
      "execution_count": 142,
      "outputs": [
        {
          "output_type": "execute_result",
          "data": {
            "text/plain": [
              "372"
            ]
          },
          "metadata": {
            "tags": []
          },
          "execution_count": 142
        }
      ]
    },
    {
      "cell_type": "code",
      "metadata": {
        "id": "edy3TEB1MccY"
      },
      "source": [
        "train_data = maindf[0:training_size,:]\n",
        "test_data = maindf[training_size:len(maindf),:1]"
      ],
      "execution_count": 143,
      "outputs": []
    },
    {
      "cell_type": "code",
      "metadata": {
        "colab": {
          "base_uri": "https://localhost:8080/"
        },
        "id": "_v4qsvfr7V-T",
        "outputId": "c8db630a-f1e5-4ea6-f694-ef4c7f155775"
      },
      "source": [
        "train_data"
      ],
      "execution_count": 144,
      "outputs": [
        {
          "output_type": "execute_result",
          "data": {
            "text/plain": [
              "array([[0.38135383],\n",
              "       [0.38321349],\n",
              "       [0.3782544 ],\n",
              "       [0.37205554],\n",
              "       [0.369576  ],\n",
              "       [0.37205554],\n",
              "       [0.38321349],\n",
              "       [0.38445326],\n",
              "       [0.40366972],\n",
              "       [0.40181007],\n",
              "       [0.41048847],\n",
              "       [0.4135879 ],\n",
              "       [0.41420779],\n",
              "       [0.40119018],\n",
              "       [0.39995041],\n",
              "       [0.39623109],\n",
              "       [0.40119018],\n",
              "       [0.40428961],\n",
              "       [0.39995041],\n",
              "       [0.4049095 ],\n",
              "       [0.41048847],\n",
              "       [0.40676915],\n",
              "       [0.40676915],\n",
              "       [0.40181007],\n",
              "       [0.39871064],\n",
              "       [0.40986858],\n",
              "       [0.40552938],\n",
              "       [0.40862881],\n",
              "       [0.40862881],\n",
              "       [0.41854699],\n",
              "       [0.41606744],\n",
              "       [0.41296801],\n",
              "       [0.40738904],\n",
              "       [0.40304984],\n",
              "       [0.40676915],\n",
              "       [0.40800893],\n",
              "       [0.4049095 ],\n",
              "       [0.39623109],\n",
              "       [0.39933052],\n",
              "       [0.39685098],\n",
              "       [0.39623109],\n",
              "       [0.39499132],\n",
              "       [0.39685098],\n",
              "       [0.39313166],\n",
              "       [0.39623109],\n",
              "       [0.39375155],\n",
              "       [0.39251178],\n",
              "       [0.3869328 ],\n",
              "       [0.38383337],\n",
              "       [0.38197372],\n",
              "       [0.37515497],\n",
              "       [0.37515497],\n",
              "       [0.37577486],\n",
              "       [0.37515497],\n",
              "       [0.36895611],\n",
              "       [0.36399702],\n",
              "       [0.35903794],\n",
              "       [0.36833623],\n",
              "       [0.36151748],\n",
              "       [0.36275725],\n",
              "       [0.35469874],\n",
              "       [0.36151748],\n",
              "       [0.35779817],\n",
              "       [0.35717828],\n",
              "       [0.36833623],\n",
              "       [0.37205554],\n",
              "       [0.37329531],\n",
              "       [0.37267543],\n",
              "       [0.3739152 ],\n",
              "       [0.36151748],\n",
              "       [0.36833623],\n",
              "       [0.36399702],\n",
              "       [0.38135383],\n",
              "       [0.37515497],\n",
              "       [0.37019588],\n",
              "       [0.39995041],\n",
              "       [0.39561121],\n",
              "       [0.38941235],\n",
              "       [0.37639474],\n",
              "       [0.37143566],\n",
              "       [0.37205554],\n",
              "       [0.3782544 ],\n",
              "       [0.37639474],\n",
              "       [0.36647657],\n",
              "       [0.36709645],\n",
              "       [0.36337714],\n",
              "       [0.3472601 ],\n",
              "       [0.33796182],\n",
              "       [0.35717828],\n",
              "       [0.37081577],\n",
              "       [0.39313166],\n",
              "       [0.38879246],\n",
              "       [0.3652368 ],\n",
              "       [0.37019588],\n",
              "       [0.36461691],\n",
              "       [0.36585668],\n",
              "       [0.36771634],\n",
              "       [0.37019588],\n",
              "       [0.36709645],\n",
              "       [0.36275725],\n",
              "       [0.35841805],\n",
              "       [0.35097942],\n",
              "       [0.33796182],\n",
              "       [0.34540045],\n",
              "       [0.29828911],\n",
              "       [0.27163402],\n",
              "       [0.30634763],\n",
              "       [0.30510786],\n",
              "       [0.30386809],\n",
              "       [0.32618398],\n",
              "       [0.32122489],\n",
              "       [0.31502604],\n",
              "       [0.31750558],\n",
              "       [0.35283908],\n",
              "       [0.38073394],\n",
              "       [0.37639474],\n",
              "       [0.36275725],\n",
              "       [0.35841805],\n",
              "       [0.35841805],\n",
              "       [0.36399702],\n",
              "       [0.37081577],\n",
              "       [0.37267543],\n",
              "       [0.37205554],\n",
              "       [0.35655839],\n",
              "       [0.36461691],\n",
              "       [0.36833623],\n",
              "       [0.34911976],\n",
              "       [0.3472601 ],\n",
              "       [0.35221919],\n",
              "       [0.34540045],\n",
              "       [0.34478056],\n",
              "       [0.34478056],\n",
              "       [0.34168113],\n",
              "       [0.34168113],\n",
              "       [0.34230102],\n",
              "       [0.34106124],\n",
              "       [0.34416067],\n",
              "       [0.34168113],\n",
              "       [0.34849988],\n",
              "       [0.35221919],\n",
              "       [0.34973965],\n",
              "       [0.34664022],\n",
              "       [0.3429209 ],\n",
              "       [0.34168113],\n",
              "       [0.34044136],\n",
              "       [0.32742375],\n",
              "       [0.33796182],\n",
              "       [0.33548227],\n",
              "       [0.34478056],\n",
              "       [0.34602033],\n",
              "       [0.34602033],\n",
              "       [0.34168113],\n",
              "       [0.35159931],\n",
              "       [0.34664022],\n",
              "       [0.33982147],\n",
              "       [0.34416067],\n",
              "       [0.3472601 ],\n",
              "       [0.35035953],\n",
              "       [0.34540045],\n",
              "       [0.33052318],\n",
              "       [0.33982147],\n",
              "       [0.34044136],\n",
              "       [0.34044136],\n",
              "       [0.36461691],\n",
              "       [0.36461691],\n",
              "       [0.38383337],\n",
              "       [0.38569303],\n",
              "       [0.3782544 ],\n",
              "       [0.36895611],\n",
              "       [0.3739152 ],\n",
              "       [0.35779817],\n",
              "       [0.36089759],\n",
              "       [0.36337714],\n",
              "       [0.36337714],\n",
              "       [0.37763452],\n",
              "       [0.3782544 ],\n",
              "       [0.39003223],\n",
              "       [0.39437144],\n",
              "       [0.39561121],\n",
              "       [0.37887429],\n",
              "       [0.37515497],\n",
              "       [0.39127201],\n",
              "       [0.38197372],\n",
              "       [0.3652368 ],\n",
              "       [0.36337714],\n",
              "       [0.35779817],\n",
              "       [0.36089759],\n",
              "       [0.35035953],\n",
              "       [0.35159931],\n",
              "       [0.35903794],\n",
              "       [0.35345896],\n",
              "       [0.35593851],\n",
              "       [0.35903794],\n",
              "       [0.35593851],\n",
              "       [0.35345896],\n",
              "       [0.34602033],\n",
              "       [0.34602033],\n",
              "       [0.34602033],\n",
              "       [0.34106124],\n",
              "       [0.32432432],\n",
              "       [0.32742375],\n",
              "       [0.34478056],\n",
              "       [0.34602033],\n",
              "       [0.33982147],\n",
              "       [0.34044136],\n",
              "       [0.33362261],\n",
              "       [0.33300273],\n",
              "       [0.32246467],\n",
              "       [0.32184478],\n",
              "       [0.32308455],\n",
              "       [0.3385817 ],\n",
              "       [0.35593851],\n",
              "       [0.36337714],\n",
              "       [0.35965782],\n",
              "       [0.36275725],\n",
              "       [0.37701463],\n",
              "       [0.3739152 ],\n",
              "       [0.37577486],\n",
              "       [0.35903794],\n",
              "       [0.36213737],\n",
              "       [0.35283908],\n",
              "       [0.35717828],\n",
              "       [0.36089759],\n",
              "       [0.36585668],\n",
              "       [0.36089759],\n",
              "       [0.37267543],\n",
              "       [0.3652368 ],\n",
              "       [0.35841805],\n",
              "       [0.35407885],\n",
              "       [0.35965782],\n",
              "       [0.36213737],\n",
              "       [0.35531862],\n",
              "       [0.36585668],\n",
              "       [0.35407885],\n",
              "       [0.35283908],\n",
              "       [0.3429209 ],\n",
              "       [0.34044136],\n",
              "       [0.34230102],\n",
              "       [0.33796182],\n",
              "       [0.34168113],\n",
              "       [0.34230102],\n",
              "       [0.3385817 ],\n",
              "       [0.32060501],\n",
              "       [0.32804364],\n",
              "       [0.32370444],\n",
              "       [0.32246467],\n",
              "       [0.31874535],\n",
              "       [0.32432432],\n",
              "       [0.32804364],\n",
              "       [0.31812546],\n",
              "       [0.31998512],\n",
              "       [0.31564592],\n",
              "       [0.31068683],\n",
              "       [0.31750558],\n",
              "       [0.32866353],\n",
              "       [0.32122489],\n",
              "       [0.31626581],\n",
              "       [0.30944706],\n",
              "       [0.29271014],\n",
              "       [0.29642946],\n",
              "       [0.29642946],\n",
              "       [0.29271014],\n",
              "       [0.28465162],\n",
              "       [0.29518969],\n",
              "       [0.30882718],\n",
              "       [0.31006695],\n",
              "       [0.29952889],\n",
              "       [0.29766923],\n",
              "       [0.29766923],\n",
              "       [0.28341185],\n",
              "       [0.27101413],\n",
              "       [0.25861641],\n",
              "       [0.25737664],\n",
              "       [0.26853459],\n",
              "       [0.27535333],\n",
              "       [0.27039425],\n",
              "       [0.27101413],\n",
              "       [0.27845276],\n",
              "       [0.26729482],\n",
              "       [0.26171584],\n",
              "       [0.26047607],\n",
              "       [0.26233573],\n",
              "       [0.26419539],\n",
              "       [0.26419539],\n",
              "       [0.27163402],\n",
              "       [0.27659311],\n",
              "       [0.2679147 ],\n",
              "       [0.26419539],\n",
              "       [0.25985619],\n",
              "       [0.25675676],\n",
              "       [0.25179767],\n",
              "       [0.24807835],\n",
              "       [0.25179767],\n",
              "       [0.25303744],\n",
              "       [0.24993801],\n",
              "       [0.24931813],\n",
              "       [0.25613687],\n",
              "       [0.24993801],\n",
              "       [0.2505579 ],\n",
              "       [0.25117778],\n",
              "       [0.23630052],\n",
              "       [0.24373915],\n",
              "       [0.23878006],\n",
              "       [0.24001984],\n",
              "       [0.23692041],\n",
              "       [0.26667493],\n",
              "       [0.26977436],\n",
              "       [0.25985619],\n",
              "       [0.25675676],\n",
              "       [0.25241756],\n",
              "       [0.25241756],\n",
              "       [0.25117778],\n",
              "       [0.25303744],\n",
              "       [0.25241756],\n",
              "       [0.25117778],\n",
              "       [0.2505579 ],\n",
              "       [0.24745847],\n",
              "       [0.24559881],\n",
              "       [0.24125961],\n",
              "       [0.24559881],\n",
              "       [0.23196132],\n",
              "       [0.23382098],\n",
              "       [0.22948178],\n",
              "       [0.21336474],\n",
              "       [0.21708406],\n",
              "       [0.2108852 ],\n",
              "       [0.21460451],\n",
              "       [0.21460451],\n",
              "       [0.20778577],\n",
              "       [0.20964543],\n",
              "       [0.20530622],\n",
              "       [0.20468634],\n",
              "       [0.20530622],\n",
              "       [0.19600793],\n",
              "       [0.19848748],\n",
              "       [0.20158691],\n",
              "       [0.21150508],\n",
              "       [0.20530622],\n",
              "       [0.20964543],\n",
              "       [0.20344657],\n",
              "       [0.19352839],\n",
              "       [0.19538805],\n",
              "       [0.1842301 ],\n",
              "       [0.17803124],\n",
              "       [0.17741136],\n",
              "       [0.16873295],\n",
              "       [0.16315398],\n",
              "       [0.16253409],\n",
              "       [0.15695512],\n",
              "       [0.1445574 ],\n",
              "       [0.1532358 ],\n",
              "       [0.16315398],\n",
              "       [0.17183238],\n",
              "       [0.1668733 ],\n",
              "       [0.16749318],\n",
              "       [0.16625341],\n",
              "       [0.12453509],\n",
              "       [0.13525911],\n",
              "       [0.1374907 ],\n",
              "       [0.14542524],\n",
              "       [0.14765683],\n",
              "       [0.1516241 ],\n",
              "       [0.14542524],\n",
              "       [0.14542524],\n",
              "       [0.1374907 ],\n",
              "       [0.14034218],\n",
              "       [0.14542524],\n",
              "       [0.15044632],\n",
              "       [0.14368956],\n",
              "       [0.14368956],\n",
              "       [0.13414332],\n",
              "       [0.14598314],\n",
              "       [0.14877263],\n",
              "       [0.15552938],\n",
              "       [0.152182  ],\n",
              "       [0.14598314],\n",
              "       [0.14257377],\n",
              "       [0.12961815],\n",
              "       [0.12397719],\n",
              "       [0.12007191],\n",
              "       [0.11889412],\n",
              "       [0.12007191],\n",
              "       [0.1211877 ],\n",
              "       [0.1217456 ],\n",
              "       [0.1217456 ],\n",
              "       [0.1211877 ],\n",
              "       [0.12509298],\n",
              "       [0.13073394],\n",
              "       [0.13866848],\n",
              "       [0.14709893],\n",
              "       [0.16346392],\n",
              "       [0.15949665],\n",
              "       [0.17641954],\n",
              "       [0.18484999],\n",
              "       [0.17976692],\n",
              "       [0.18825936],\n",
              "       [0.18540788],\n",
              "       [0.18652368],\n",
              "       [0.18881726],\n",
              "       [0.1831763 ],\n",
              "       [0.17809323],\n",
              "       [0.1826184 ],\n",
              "       [0.17865113],\n",
              "       [0.18484999],\n",
              "       [0.18825936],\n",
              "       [0.19104885],\n",
              "       [0.19216464],\n",
              "       [0.1978056 ],\n",
              "       [0.19668981],\n",
              "       [0.20344657],\n",
              "       [0.20512026],\n",
              "       [0.20003719],\n",
              "       [0.19160674],\n",
              "       [0.19328044],\n",
              "       [0.19160674],\n",
              "       [0.20685594],\n",
              "       [0.21187701],\n",
              "       [0.20400446],\n",
              "       [0.20344657],\n",
              "       [0.20288867],\n",
              "       [0.20741384],\n",
              "       [0.20456236],\n",
              "       [0.20400446],\n",
              "       [0.20797173],\n",
              "       [0.20288867],\n",
              "       [0.20065708],\n",
              "       [0.20685594],\n",
              "       [0.21472849],\n",
              "       [0.21528639],\n",
              "       [0.22204314],\n",
              "       [0.21417059],\n",
              "       [0.20741384],\n",
              "       [0.1978056 ],\n",
              "       [0.20065708],\n",
              "       [0.1994793 ],\n",
              "       [0.19216464],\n",
              "       [0.19557401],\n",
              "       [0.18993305],\n",
              "       [0.19383833],\n",
              "       [0.18881726],\n",
              "       [0.18763947],\n",
              "       [0.18652368],\n",
              "       [0.18596578],\n",
              "       [0.18763947],\n",
              "       [0.18708158],\n",
              "       [0.17865113],\n",
              "       [0.18763947],\n",
              "       [0.1826184 ],\n",
              "       [0.1826184 ],\n",
              "       [0.17586164],\n",
              "       [0.17524176],\n",
              "       [0.1831763 ],\n",
              "       [0.17809323],\n",
              "       [0.17976692],\n",
              "       [0.17245227],\n",
              "       [0.17022068],\n",
              "       [0.17356806],\n",
              "       [0.16966278],\n",
              "       [0.17077858],\n",
              "       [0.1673692 ],\n",
              "       [0.15949665],\n",
              "       [0.16513761],\n",
              "       [0.17022068],\n",
              "       [0.15949665],\n",
              "       [0.15441359],\n",
              "       [0.15664518],\n",
              "       [0.14145797],\n",
              "       [0.152182  ],\n",
              "       [0.1510662 ],\n",
              "       [0.15664518],\n",
              "       [0.16346392],\n",
              "       [0.1690429 ],\n",
              "       [0.16228614],\n",
              "       [0.15497149],\n",
              "       [0.152182  ],\n",
              "       [0.1516241 ],\n",
              "       [0.1510662 ],\n",
              "       [0.1516241 ],\n",
              "       [0.14368956],\n",
              "       [0.13978428],\n",
              "       [0.1380486 ],\n",
              "       [0.14145797],\n",
              "       [0.13470121],\n",
              "       [0.1369328 ],\n",
              "       [0.1374907 ],\n",
              "       [0.13866848],\n",
              "       [0.1380486 ],\n",
              "       [0.13978428],\n",
              "       [0.14090007],\n",
              "       [0.14090007],\n",
              "       [0.14145797],\n",
              "       [0.14933052],\n",
              "       [0.15664518],\n",
              "       [0.16005455],\n",
              "       [0.15726506],\n",
              "       [0.15497149],\n",
              "       [0.14877263],\n",
              "       [0.14201587],\n",
              "       [0.13978428],\n",
              "       [0.14145797],\n",
              "       [0.14201587],\n",
              "       [0.14598314],\n",
              "       [0.14709893],\n",
              "       [0.14877263],\n",
              "       [0.15782296],\n",
              "       [0.16513761],\n",
              "       [0.17189437],\n",
              "       [0.1673692 ],\n",
              "       [0.17524176],\n",
              "       [0.17468386],\n",
              "       [0.16346392],\n",
              "       [0.16513761],\n",
              "       [0.15552938],\n",
              "       [0.16172824],\n",
              "       [0.16284404],\n",
              "       [0.16284404],\n",
              "       [0.15608728],\n",
              "       [0.1527399 ],\n",
              "       [0.15329779],\n",
              "       [0.15044632],\n",
              "       [0.15497149],\n",
              "       [0.14877263],\n",
              "       [0.16228614],\n",
              "       [0.1673692 ],\n",
              "       [0.16284404],\n",
              "       [0.16284404],\n",
              "       [0.16513761],\n",
              "       [0.16172824],\n",
              "       [0.16569551],\n",
              "       [0.17022068],\n",
              "       [0.16513761],\n",
              "       [0.16513761],\n",
              "       [0.16569551],\n",
              "       [0.168485  ],\n",
              "       [0.16513761],\n",
              "       [0.17245227],\n",
              "       [0.17641954],\n",
              "       [0.18088272],\n",
              "       [0.17586164],\n",
              "       [0.17865113],\n",
              "       [0.17524176],\n",
              "       [0.17356806],\n",
              "       [0.17586164],\n",
              "       [0.17468386],\n",
              "       [0.17468386],\n",
              "       [0.17468386],\n",
              "       [0.168485  ],\n",
              "       [0.16681131],\n",
              "       [0.16172824],\n",
              "       [0.16625341],\n",
              "       [0.1679271 ],\n",
              "       [0.16402182],\n",
              "       [0.16625341],\n",
              "       [0.1673692 ],\n",
              "       [0.16681131],\n",
              "       [0.16625341],\n",
              "       [0.16625341],\n",
              "       [0.16569551]])"
            ]
          },
          "metadata": {
            "tags": []
          },
          "execution_count": 144
        }
      ]
    },
    {
      "cell_type": "code",
      "metadata": {
        "colab": {
          "base_uri": "https://localhost:8080/"
        },
        "id": "OSXONgQP7WWX",
        "outputId": "2421779d-e3ae-48aa-effb-b10f383e2625"
      },
      "source": [
        "test_data"
      ],
      "execution_count": 145,
      "outputs": [
        {
          "output_type": "execute_result",
          "data": {
            "text/plain": [
              "array([[0.16346392],\n",
              "       [0.17022068],\n",
              "       [0.17697744],\n",
              "       [0.17356806],\n",
              "       [0.17412596],\n",
              "       [0.17468386],\n",
              "       [0.17586164],\n",
              "       [0.17524176],\n",
              "       [0.17245227],\n",
              "       [0.17412596],\n",
              "       [0.17189437],\n",
              "       [0.1679271 ],\n",
              "       [0.17077858],\n",
              "       [0.168485  ],\n",
              "       [0.16681131],\n",
              "       [0.16284404],\n",
              "       [0.15949665],\n",
              "       [0.16625341],\n",
              "       [0.16569551],\n",
              "       [0.16681131],\n",
              "       [0.16172824],\n",
              "       [0.15726506],\n",
              "       [0.15552938],\n",
              "       [0.14598314],\n",
              "       [0.14821473],\n",
              "       [0.15497149],\n",
              "       [0.14090007],\n",
              "       [0.13525911],\n",
              "       [0.12565088],\n",
              "       [0.1374907 ],\n",
              "       [0.13866848],\n",
              "       [0.13581701],\n",
              "       [0.14090007],\n",
              "       [0.1369328 ],\n",
              "       [0.1380486 ],\n",
              "       [0.14034218],\n",
              "       [0.14988842],\n",
              "       [0.14201587],\n",
              "       [0.14424746],\n",
              "       [0.14654104],\n",
              "       [0.15552938],\n",
              "       [0.15838086],\n",
              "       [0.15497149],\n",
              "       [0.1510662 ],\n",
              "       [0.152182  ],\n",
              "       [0.14765683],\n",
              "       [0.15497149],\n",
              "       [0.15329779],\n",
              "       [0.53365981],\n",
              "       [0.14486734],\n",
              "       [0.15044632],\n",
              "       [0.15044632],\n",
              "       [0.14486734],\n",
              "       [0.14145797],\n",
              "       [0.13246963],\n",
              "       [0.12850236],\n",
              "       [0.13073394],\n",
              "       [0.12453509],\n",
              "       [0.11945202],\n",
              "       [0.11046367],\n",
              "       [0.10203323],\n",
              "       [0.10934788],\n",
              "       [0.10482271],\n",
              "       [0.10370692],\n",
              "       [0.10259112],\n",
              "       [0.10314902],\n",
              "       [0.09918175],\n",
              "       [0.09242499],\n",
              "       [0.07946938],\n",
              "       [0.08455244],\n",
              "       [0.07048103],\n",
              "       [0.0614307 ],\n",
              "       [0.05808331],\n",
              "       [0.04735929],\n",
              "       [0.04959088],\n",
              "       [0.04903298],\n",
              "       [0.03830895],\n",
              "       [0.02144805],\n",
              "       [0.02423754],\n",
              "       [0.03948673],\n",
              "       [0.07327052],\n",
              "       [0.0918671 ],\n",
              "       [0.10426482],\n",
              "       [0.11833623],\n",
              "       [0.12286139],\n",
              "       [0.11325316],\n",
              "       [0.11157947],\n",
              "       [0.11157947],\n",
              "       [0.10990578],\n",
              "       [0.11666253],\n",
              "       [0.11666253],\n",
              "       [0.11833623],\n",
              "       [0.11833623],\n",
              "       [0.11833623],\n",
              "       [0.1223035 ],\n",
              "       [0.11554674],\n",
              "       [0.11157947],\n",
              "       [0.10767419],\n",
              "       [0.11157947],\n",
              "       [0.1217456 ],\n",
              "       [0.15044632],\n",
              "       [0.14257377],\n",
              "       [0.1369328 ],\n",
              "       [0.12906025],\n",
              "       [0.12627077],\n",
              "       [0.11610464],\n",
              "       [0.11498884],\n",
              "       [0.11269526],\n",
              "       [0.10538061],\n",
              "       [0.11269526],\n",
              "       [0.11325316],\n",
              "       [0.10370692],\n",
              "       [0.10538061],\n",
              "       [0.10426482],\n",
              "       [0.0907513 ],\n",
              "       [0.07723779],\n",
              "       [0.04959088],\n",
              "       [0.06651376],\n",
              "       [0.07327052],\n",
              "       [0.06198859],\n",
              "       [0.05523184],\n",
              "       [0.02708902],\n",
              "       [0.        ],\n",
              "       [0.05014877],\n",
              "       [0.04339202],\n",
              "       [0.04339202],\n",
              "       [0.04339202],\n",
              "       [0.04339202],\n",
              "       [0.07760972],\n",
              "       [0.07723779],\n",
              "       [0.09750806],\n",
              "       [0.07835358],\n",
              "       [0.07271262],\n",
              "       [0.04568559],\n",
              "       [0.06818745],\n",
              "       [0.05864121],\n",
              "       [0.0614307 ],\n",
              "       [0.07327052],\n",
              "       [0.07494421],\n",
              "       [0.06818745],\n",
              "       [0.05411604],\n",
              "       [0.05919911],\n",
              "       [0.05919911],\n",
              "       [0.05746343],\n",
              "       [0.0603149 ],\n",
              "       [0.05746343],\n",
              "       [0.05634763],\n",
              "       [0.059757  ],\n",
              "       [0.06651376],\n",
              "       [0.07438631],\n",
              "       [0.08287875],\n",
              "       [0.0913092 ],\n",
              "       [0.07723779],\n",
              "       [0.06986115],\n",
              "       [0.07438631],\n",
              "       [0.08455244],\n",
              "       [0.0918671 ],\n",
              "       [0.10934788],\n",
              "       [0.11498884],\n",
              "       [0.11325316],\n",
              "       [0.12627077],\n",
              "       [0.13184974],\n",
              "       [0.12007191],\n",
              "       [0.10029755],\n",
              "       [0.1206298 ],\n",
              "       [0.12682866],\n",
              "       [0.1223035 ],\n",
              "       [0.12286139],\n",
              "       [0.13525911],\n",
              "       [0.14313166],\n",
              "       [0.13525911],\n",
              "       [0.14090007],\n",
              "       [0.15608728],\n",
              "       [0.18429209],\n",
              "       [0.1831763 ],\n",
              "       [0.1826184 ],\n",
              "       [0.20908753],\n",
              "       [0.25359534],\n",
              "       [0.25415324],\n",
              "       [0.25303744],\n",
              "       [0.24851227],\n",
              "       [0.29587156],\n",
              "       [0.28514753],\n",
              "       [0.30771138],\n",
              "       [0.34378874],\n",
              "       [0.33083313],\n",
              "       [0.32519216],\n",
              "       [0.30882718],\n",
              "       [0.31899331],\n",
              "       [0.31335234],\n",
              "       [0.31105877],\n",
              "       [0.35221919],\n",
              "       [0.35562856],\n",
              "       [0.3961691 ],\n",
              "       [0.3815398 ],\n",
              "       [0.37868832],\n",
              "       [0.39902058],\n",
              "       [0.40459955],\n",
              "       [0.38941235],\n",
              "       [0.39220183],\n",
              "       [0.36914208],\n",
              "       [0.3674064 ],\n",
              "       [0.36517481],\n",
              "       [0.34657823],\n",
              "       [0.34713613],\n",
              "       [0.36461691],\n",
              "       [0.3494297 ],\n",
              "       [0.35841805],\n",
              "       [0.35389288],\n",
              "       [0.34657823],\n",
              "       [0.34378874],\n",
              "       [0.37248946],\n",
              "       [0.3674064 ],\n",
              "       [0.36517481],\n",
              "       [0.37304736],\n",
              "       [0.37478304],\n",
              "       [0.35166129],\n",
              "       [0.3505455 ],\n",
              "       [0.3511034 ],\n",
              "       [0.34602033],\n",
              "       [0.33418051],\n",
              "       [0.32178279],\n",
              "       [0.32686586],\n",
              "       [0.31899331],\n",
              "       [0.32401438],\n",
              "       [0.33703199],\n",
              "       [0.36517481],\n",
              "       [0.35953385],\n",
              "       [0.3499876 ],\n",
              "       [0.35333499],\n",
              "       [0.36064964],\n",
              "       [0.36858418],\n",
              "       [0.36238532],\n",
              "       [0.36802628],\n",
              "       [0.41588148],\n",
              "       [0.40521944],\n",
              "       [0.41984875],\n",
              "       [0.45363253],\n",
              "       [0.46491446],\n",
              "       [0.45536821],\n",
              "       [0.46603025],\n",
              "       [0.43788743],\n",
              "       [0.48239524],\n",
              "       [0.50099182],\n",
              "       [0.47960575],\n",
              "       [0.48462683],\n",
              "       [0.49931813],\n",
              "       [0.5179147 ],\n",
              "       [0.53365981],\n",
              "       [0.51060005],\n",
              "       [0.50551698],\n",
              "       [0.53365981],\n",
              "       [0.57413836],\n",
              "       [0.6162906 ],\n",
              "       [0.59025539],\n",
              "       [0.59521448],\n",
              "       [0.57165881],\n",
              "       [0.58715596],\n",
              "       [0.57909745],\n",
              "       [0.5766179 ],\n",
              "       [0.5722787 ],\n",
              "       [0.58591619],\n",
              "       [0.60575254],\n",
              "       [0.63240764],\n",
              "       [0.6869576 ],\n",
              "       [0.66402182],\n",
              "       [0.66092239],\n",
              "       [0.70369452],\n",
              "       [0.7222911 ],\n",
              "       [0.71547235],\n",
              "       [0.75576494],\n",
              "       [0.78365981],\n",
              "       [0.79233821],\n",
              "       [0.79605753],\n",
              "       [0.81837342],\n",
              "       [0.88222167],\n",
              "       [1.        ],\n",
              "       [0.96094719],\n",
              "       [0.86858418],\n",
              "       [0.8766427 ],\n",
              "       [0.79543764],\n",
              "       [0.85556658],\n",
              "       [0.94668981],\n",
              "       [0.97458468],\n",
              "       [0.90887677],\n",
              "       [0.92623357],\n",
              "       [0.85742623],\n",
              "       [0.87292338],\n",
              "       [0.91259608],\n",
              "       [0.9119762 ],\n",
              "       [0.92995289],\n",
              "       [0.99318125],\n",
              "       [0.94173072],\n",
              "       [0.89213985],\n",
              "       [0.86734441],\n",
              "       [0.84006943],\n",
              "       [0.84316886],\n",
              "       [0.79543764],\n",
              "       [0.76134391],\n",
              "       [0.77126209],\n",
              "       [0.80287627],\n",
              "       [0.71547235],\n",
              "       [0.62930821],\n",
              "       [0.71981155],\n",
              "       [0.76568311],\n",
              "       [0.7532854 ],\n",
              "       [0.8146541 ],\n",
              "       [0.90701711],\n",
              "       [0.88594099],\n",
              "       [0.87788247],\n",
              "       [0.86114555],\n",
              "       [0.82209273],\n",
              "       [0.77188197],\n",
              "       [0.81837342],\n",
              "       [0.82643194],\n",
              "       [0.79419787],\n",
              "       [0.82891148],\n",
              "       [0.90453757],\n",
              "       [0.86920407],\n",
              "       [0.8766427 ],\n",
              "       [0.86300521],\n",
              "       [0.8896603 ],\n",
              "       [0.89028019],\n",
              "       [0.85680635],\n",
              "       [0.87726258],\n",
              "       [0.85370692],\n",
              "       [0.8499876 ],\n",
              "       [0.83944954],\n",
              "       [0.82085296],\n",
              "       [0.79853707],\n",
              "       [0.82333251],\n",
              "       [0.87540293],\n",
              "       [0.83387057],\n",
              "       [0.85556658],\n",
              "       [0.86796429],\n",
              "       [0.87354327],\n",
              "       [0.85060749],\n",
              "       [0.84688817],\n",
              "       [0.77994049],\n",
              "       [0.83325068],\n",
              "       [0.83325068],\n",
              "       [0.82953137],\n",
              "       [0.80535581],\n",
              "       [0.77746095],\n",
              "       [0.76940243],\n",
              "       [0.79977684],\n",
              "       [0.82395239],\n",
              "       [0.83201091],\n",
              "       [0.82891148],\n",
              "       [0.87540293],\n",
              "       [0.89337962],\n",
              "       [0.88656087],\n",
              "       [0.91445574],\n",
              "       [0.91073642],\n",
              "       [0.87478304],\n",
              "       [0.89028019],\n",
              "       [0.89151996],\n",
              "       [0.89461939],\n",
              "       [0.85680635],\n",
              "       [0.85246715],\n",
              "       [0.83882966],\n",
              "       [0.84192909],\n",
              "       [0.87912224],\n",
              "       [0.8723035 ],\n",
              "       [0.84254897],\n",
              "       [0.82519216],\n",
              "       [0.80349616],\n",
              "       [0.83387057],\n",
              "       [0.80411604],\n",
              "       [0.79853707],\n",
              "       [0.77622118],\n",
              "       [0.77560129]])"
            ]
          },
          "metadata": {
            "tags": []
          },
          "execution_count": 145
        }
      ]
    },
    {
      "cell_type": "code",
      "metadata": {
        "colab": {
          "base_uri": "https://localhost:8080/"
        },
        "id": "oHe-dGxdNL_a",
        "outputId": "a4bdefe5-494e-4261-f438-f517cdfd458c"
      },
      "source": [
        "test_data.shape"
      ],
      "execution_count": 146,
      "outputs": [
        {
          "output_type": "execute_result",
          "data": {
            "text/plain": [
              "(372, 1)"
            ]
          },
          "metadata": {
            "tags": []
          },
          "execution_count": 146
        }
      ]
    },
    {
      "cell_type": "code",
      "metadata": {
        "colab": {
          "base_uri": "https://localhost:8080/"
        },
        "id": "1dWF_OOVNNlW",
        "outputId": "303aad52-a081-45d9-8df0-081a22f366b3"
      },
      "source": [
        "train_data.shape"
      ],
      "execution_count": 147,
      "outputs": [
        {
          "output_type": "execute_result",
          "data": {
            "text/plain": [
              "(558, 1)"
            ]
          },
          "metadata": {
            "tags": []
          },
          "execution_count": 147
        }
      ]
    },
    {
      "cell_type": "code",
      "metadata": {
        "id": "X7N_XCPyNQRD"
      },
      "source": [
        "def  create_dataset(dataset, time_step = 1):\n",
        "  dataX=[ ]\n",
        "  dataY = [ ]\n",
        "  for i in range(len(dataset)-time_step-1):\n",
        "    a = dataset[i:(i+time_step),0]\n",
        "    dataX.append(a)\n",
        "    dataY.append(dataset[i+time_step,0])\n",
        "\n",
        "  return np.array(dataX),np.array(dataY)  "
      ],
      "execution_count": 148,
      "outputs": []
    },
    {
      "cell_type": "code",
      "metadata": {
        "id": "CWpCY1qfQHUN"
      },
      "source": [
        "time_step = 60\n",
        "train_X,train_Y = create_dataset(train_data,time_step)"
      ],
      "execution_count": 149,
      "outputs": []
    },
    {
      "cell_type": "code",
      "metadata": {
        "colab": {
          "base_uri": "https://localhost:8080/"
        },
        "id": "8XtszJeYQbIi",
        "outputId": "0093a959-4ec8-4b1b-9fc8-e5675fe0f55a"
      },
      "source": [
        "test_X.shape"
      ],
      "execution_count": 150,
      "outputs": [
        {
          "output_type": "execute_result",
          "data": {
            "text/plain": [
              "(218, 60, 1)"
            ]
          },
          "metadata": {
            "tags": []
          },
          "execution_count": 150
        }
      ]
    },
    {
      "cell_type": "code",
      "metadata": {
        "id": "Ay3dvliRRSgn"
      },
      "source": [
        "test_X,test_Y = create_dataset(test_data,time_step)"
      ],
      "execution_count": 151,
      "outputs": []
    },
    {
      "cell_type": "code",
      "metadata": {
        "id": "NxwCH17xSRyB"
      },
      "source": [
        "train_X = train_X.reshape(train_X.shape[0],train_X.shape[1],1)\n",
        "test_X = test_X.reshape(test_X.shape[0],test_X.shape[1],1)"
      ],
      "execution_count": 152,
      "outputs": []
    },
    {
      "cell_type": "code",
      "metadata": {
        "colab": {
          "base_uri": "https://localhost:8080/"
        },
        "id": "GYg7gU0yTIyw",
        "outputId": "5f693add-c85a-4036-a81e-e91c94211a06"
      },
      "source": [
        "train_Y.shape"
      ],
      "execution_count": 153,
      "outputs": [
        {
          "output_type": "execute_result",
          "data": {
            "text/plain": [
              "(497,)"
            ]
          },
          "metadata": {
            "tags": []
          },
          "execution_count": 153
        }
      ]
    },
    {
      "cell_type": "code",
      "metadata": {
        "colab": {
          "base_uri": "https://localhost:8080/"
        },
        "id": "1V9w_QvSTKbf",
        "outputId": "970f34b8-74aa-4f3e-8f8f-e37a7a67ab1a"
      },
      "source": [
        "test_Y.shape"
      ],
      "execution_count": 154,
      "outputs": [
        {
          "output_type": "execute_result",
          "data": {
            "text/plain": [
              "(311,)"
            ]
          },
          "metadata": {
            "tags": []
          },
          "execution_count": 154
        }
      ]
    },
    {
      "cell_type": "code",
      "metadata": {
        "id": "doZt-i1KTPQC"
      },
      "source": [
        "from tensorflow.keras.models import Sequential\n",
        "from tensorflow.keras.layers import Dense\n",
        "from tensorflow.keras.layers import LSTM"
      ],
      "execution_count": 155,
      "outputs": []
    },
    {
      "cell_type": "code",
      "metadata": {
        "id": "w77yh89qT0oQ"
      },
      "source": [
        "model = Sequential()\n",
        "model.add(LSTM(50,return_sequences=True,input_shape = (60,1)))\n",
        "model.add(LSTM(50,return_sequences=True))\n",
        "model.add(LSTM(50))\n",
        "model.add(Dense(1))\n",
        "\n",
        "\n"
      ],
      "execution_count": 156,
      "outputs": []
    },
    {
      "cell_type": "code",
      "metadata": {
        "colab": {
          "base_uri": "https://localhost:8080/"
        },
        "id": "jtmPOjMAVPKv",
        "outputId": "241d9f38-d0ef-4518-c1d9-620ab13e098c"
      },
      "source": [
        "model.summary()"
      ],
      "execution_count": 157,
      "outputs": [
        {
          "output_type": "stream",
          "text": [
            "Model: \"sequential_2\"\n",
            "_________________________________________________________________\n",
            "Layer (type)                 Output Shape              Param #   \n",
            "=================================================================\n",
            "lstm_6 (LSTM)                (None, 60, 50)            10400     \n",
            "_________________________________________________________________\n",
            "lstm_7 (LSTM)                (None, 60, 50)            20200     \n",
            "_________________________________________________________________\n",
            "lstm_8 (LSTM)                (None, 50)                20200     \n",
            "_________________________________________________________________\n",
            "dense_2 (Dense)              (None, 1)                 51        \n",
            "=================================================================\n",
            "Total params: 50,851\n",
            "Trainable params: 50,851\n",
            "Non-trainable params: 0\n",
            "_________________________________________________________________\n"
          ],
          "name": "stdout"
        }
      ]
    },
    {
      "cell_type": "code",
      "metadata": {
        "id": "C739Dmlc-Xu2"
      },
      "source": [
        "from tensorflow.keras.optimizers import Adam"
      ],
      "execution_count": 158,
      "outputs": []
    },
    {
      "cell_type": "code",
      "metadata": {
        "id": "E7vGXAyO-g2g"
      },
      "source": [
        "adam = Adam(learning_rate=0.001)"
      ],
      "execution_count": 159,
      "outputs": []
    },
    {
      "cell_type": "code",
      "metadata": {
        "id": "t_K_bnpwVSjy"
      },
      "source": [
        "model.compile(loss='mean_squared_error',optimizer=adam)"
      ],
      "execution_count": 160,
      "outputs": []
    },
    {
      "cell_type": "code",
      "metadata": {
        "colab": {
          "base_uri": "https://localhost:8080/"
        },
        "id": "2sw4fPpfVwO6",
        "outputId": "53c003a8-b1c8-4b83-82df-69a23fbf9f71"
      },
      "source": [
        "\n",
        "history = model.fit(train_X,train_Y,validation_data=(test_X,test_Y),epochs=50,batch_size=64,verbose=1)"
      ],
      "execution_count": 161,
      "outputs": [
        {
          "output_type": "stream",
          "text": [
            "Epoch 1/50\n",
            "8/8 [==============================] - 7s 288ms/step - loss: 0.0239 - val_loss: 0.0146\n",
            "Epoch 2/50\n",
            "8/8 [==============================] - 1s 133ms/step - loss: 0.0040 - val_loss: 0.0670\n",
            "Epoch 3/50\n",
            "8/8 [==============================] - 1s 131ms/step - loss: 0.0032 - val_loss: 0.0229\n",
            "Epoch 4/50\n",
            "8/8 [==============================] - 1s 153ms/step - loss: 0.0019 - val_loss: 0.0374\n",
            "Epoch 5/50\n",
            "8/8 [==============================] - 1s 129ms/step - loss: 0.0014 - val_loss: 0.0200\n",
            "Epoch 6/50\n",
            "8/8 [==============================] - 1s 129ms/step - loss: 9.7675e-04 - val_loss: 0.0168\n",
            "Epoch 7/50\n",
            "8/8 [==============================] - 1s 131ms/step - loss: 6.1110e-04 - val_loss: 0.0088\n",
            "Epoch 8/50\n",
            "8/8 [==============================] - 1s 131ms/step - loss: 4.4138e-04 - val_loss: 0.0069\n",
            "Epoch 9/50\n",
            "8/8 [==============================] - 1s 127ms/step - loss: 3.8856e-04 - val_loss: 0.0060\n",
            "Epoch 10/50\n",
            "8/8 [==============================] - 1s 127ms/step - loss: 3.9470e-04 - val_loss: 0.0060\n",
            "Epoch 11/50\n",
            "8/8 [==============================] - 1s 127ms/step - loss: 3.8734e-04 - val_loss: 0.0060\n",
            "Epoch 12/50\n",
            "8/8 [==============================] - 1s 130ms/step - loss: 3.7990e-04 - val_loss: 0.0056\n",
            "Epoch 13/50\n",
            "8/8 [==============================] - 1s 132ms/step - loss: 3.7741e-04 - val_loss: 0.0062\n",
            "Epoch 14/50\n",
            "8/8 [==============================] - 1s 142ms/step - loss: 3.7722e-04 - val_loss: 0.0063\n",
            "Epoch 15/50\n",
            "8/8 [==============================] - 1s 127ms/step - loss: 3.7740e-04 - val_loss: 0.0056\n",
            "Epoch 16/50\n",
            "8/8 [==============================] - 1s 128ms/step - loss: 3.7156e-04 - val_loss: 0.0057\n",
            "Epoch 17/50\n",
            "8/8 [==============================] - 1s 128ms/step - loss: 3.6415e-04 - val_loss: 0.0055\n",
            "Epoch 18/50\n",
            "8/8 [==============================] - 1s 129ms/step - loss: 3.6154e-04 - val_loss: 0.0054\n",
            "Epoch 19/50\n",
            "8/8 [==============================] - 1s 127ms/step - loss: 3.5757e-04 - val_loss: 0.0054\n",
            "Epoch 20/50\n",
            "8/8 [==============================] - 1s 130ms/step - loss: 3.5740e-04 - val_loss: 0.0050\n",
            "Epoch 21/50\n",
            "8/8 [==============================] - 1s 133ms/step - loss: 3.6346e-04 - val_loss: 0.0056\n",
            "Epoch 22/50\n",
            "8/8 [==============================] - 1s 128ms/step - loss: 3.5681e-04 - val_loss: 0.0057\n",
            "Epoch 23/50\n",
            "8/8 [==============================] - 1s 139ms/step - loss: 3.7693e-04 - val_loss: 0.0054\n",
            "Epoch 24/50\n",
            "8/8 [==============================] - 1s 136ms/step - loss: 3.6714e-04 - val_loss: 0.0050\n",
            "Epoch 25/50\n",
            "8/8 [==============================] - 1s 127ms/step - loss: 3.6724e-04 - val_loss: 0.0050\n",
            "Epoch 26/50\n",
            "8/8 [==============================] - 1s 128ms/step - loss: 3.7563e-04 - val_loss: 0.0049\n",
            "Epoch 27/50\n",
            "8/8 [==============================] - 1s 134ms/step - loss: 3.7479e-04 - val_loss: 0.0049\n",
            "Epoch 28/50\n",
            "8/8 [==============================] - 1s 128ms/step - loss: 3.5888e-04 - val_loss: 0.0048\n",
            "Epoch 29/50\n",
            "8/8 [==============================] - 1s 131ms/step - loss: 3.4028e-04 - val_loss: 0.0049\n",
            "Epoch 30/50\n",
            "8/8 [==============================] - 1s 128ms/step - loss: 3.3028e-04 - val_loss: 0.0051\n",
            "Epoch 31/50\n",
            "8/8 [==============================] - 1s 131ms/step - loss: 3.3986e-04 - val_loss: 0.0049\n",
            "Epoch 32/50\n",
            "8/8 [==============================] - 1s 128ms/step - loss: 3.3213e-04 - val_loss: 0.0048\n",
            "Epoch 33/50\n",
            "8/8 [==============================] - 1s 146ms/step - loss: 3.4028e-04 - val_loss: 0.0048\n",
            "Epoch 34/50\n",
            "8/8 [==============================] - 1s 133ms/step - loss: 3.4068e-04 - val_loss: 0.0049\n",
            "Epoch 35/50\n",
            "8/8 [==============================] - 1s 130ms/step - loss: 3.5504e-04 - val_loss: 0.0047\n",
            "Epoch 36/50\n",
            "8/8 [==============================] - 1s 131ms/step - loss: 3.5136e-04 - val_loss: 0.0047\n",
            "Epoch 37/50\n",
            "8/8 [==============================] - 1s 130ms/step - loss: 3.2588e-04 - val_loss: 0.0047\n",
            "Epoch 38/50\n",
            "8/8 [==============================] - 1s 127ms/step - loss: 3.1460e-04 - val_loss: 0.0047\n",
            "Epoch 39/50\n",
            "8/8 [==============================] - 1s 128ms/step - loss: 3.1095e-04 - val_loss: 0.0047\n",
            "Epoch 40/50\n",
            "8/8 [==============================] - 1s 133ms/step - loss: 3.0402e-04 - val_loss: 0.0047\n",
            "Epoch 41/50\n",
            "8/8 [==============================] - 1s 128ms/step - loss: 3.0885e-04 - val_loss: 0.0047\n",
            "Epoch 42/50\n",
            "8/8 [==============================] - 1s 130ms/step - loss: 3.1449e-04 - val_loss: 0.0045\n",
            "Epoch 43/50\n",
            "8/8 [==============================] - 1s 148ms/step - loss: 3.0938e-04 - val_loss: 0.0052\n",
            "Epoch 44/50\n",
            "8/8 [==============================] - 1s 127ms/step - loss: 2.9637e-04 - val_loss: 0.0054\n",
            "Epoch 45/50\n",
            "8/8 [==============================] - 1s 129ms/step - loss: 2.9832e-04 - val_loss: 0.0058\n",
            "Epoch 46/50\n",
            "8/8 [==============================] - 1s 131ms/step - loss: 2.9660e-04 - val_loss: 0.0061\n",
            "Epoch 47/50\n",
            "8/8 [==============================] - 1s 130ms/step - loss: 3.1552e-04 - val_loss: 0.0055\n",
            "Epoch 48/50\n",
            "8/8 [==============================] - 1s 127ms/step - loss: 2.9172e-04 - val_loss: 0.0048\n",
            "Epoch 49/50\n",
            "8/8 [==============================] - 1s 131ms/step - loss: 3.0923e-04 - val_loss: 0.0047\n",
            "Epoch 50/50\n",
            "8/8 [==============================] - 1s 129ms/step - loss: 3.2087e-04 - val_loss: 0.0045\n"
          ],
          "name": "stdout"
        }
      ]
    },
    {
      "cell_type": "code",
      "metadata": {
        "colab": {
          "base_uri": "https://localhost:8080/",
          "height": 285
        },
        "id": "JG_OpJh5WVvW",
        "outputId": "6c0f7636-322d-43d1-9de1-b87c1224f7ab"
      },
      "source": [
        "plt.plot(history.history['loss'],label = 'loss')\n",
        "plt.plot(history.history['val_loss'],label = 'Val loss')\n",
        "plt.legend()\n",
        "plt.show\n",
        "#plt.savefig('Loss1')"
      ],
      "execution_count": 162,
      "outputs": [
        {
          "output_type": "execute_result",
          "data": {
            "text/plain": [
              "<function matplotlib.pyplot.show>"
            ]
          },
          "metadata": {
            "tags": []
          },
          "execution_count": 162
        },
        {
          "output_type": "display_data",
          "data": {
            "image/png": "[encoded data removed]",
            "text/plain": [
              "<Figure size 432x288 with 1 Axes>"
            ]
          },
          "metadata": {
            "tags": [],
            "needs_background": "light"
          }
        }
      ]
    },
    {
      "cell_type": "code",
      "metadata": {
        "id": "dNhFLOo2W1Pi"
      },
      "source": [
        "train_predict = model.predict(train_X)\n",
        "test_predict = model.predict(test_X)"
      ],
      "execution_count": 163,
      "outputs": []
    },
    {
      "cell_type": "code",
      "metadata": {
        "id": "FxLxW34HXcKa"
      },
      "source": [
        "\n",
        "train_predict = scaler.inverse_transform(train_predict)\n",
        "test_predict = scaler.inverse_transform(test_predict)"
      ],
      "execution_count": 164,
      "outputs": []
    },
    {
      "cell_type": "code",
      "metadata": {
        "colab": {
          "base_uri": "https://localhost:8080/"
        },
        "id": "SR4n3RCAYiz-",
        "outputId": "ac52e8ab-0a31-44f8-83a6-405290c523b9"
      },
      "source": [
        "test_predict"
      ],
      "execution_count": 165,
      "outputs": [
        {
          "output_type": "execute_result",
          "data": {
            "text/plain": [
              "array([[ 73.044174],\n",
              "       [ 71.961876],\n",
              "       [ 70.89877 ],\n",
              "       [ 69.88741 ],\n",
              "       [ 68.95218 ],\n",
              "       [ 68.10846 ],\n",
              "       [ 67.36752 ],\n",
              "       [ 66.72426 ],\n",
              "       [ 66.15778 ],\n",
              "       [ 65.62603 ],\n",
              "       [ 65.12486 ],\n",
              "       [ 64.622856],\n",
              "       [ 64.09205 ],\n",
              "       [ 63.523792],\n",
              "       [ 62.903606],\n",
              "       [ 62.24755 ],\n",
              "       [ 61.57859 ],\n",
              "       [ 60.89691 ],\n",
              "       [ 60.177696],\n",
              "       [ 59.432533],\n",
              "       [ 58.718002],\n",
              "       [ 58.147053],\n",
              "       [ 57.80972 ],\n",
              "       [ 57.755318],\n",
              "       [ 58.00558 ],\n",
              "       [ 58.538593],\n",
              "       [ 59.27508 ],\n",
              "       [ 60.131577],\n",
              "       [ 61.035065],\n",
              "       [ 61.922626],\n",
              "       [ 62.765427],\n",
              "       [ 63.54026 ],\n",
              "       [ 64.23532 ],\n",
              "       [ 64.84342 ],\n",
              "       [ 65.36213 ],\n",
              "       [ 65.80301 ],\n",
              "       [ 66.15806 ],\n",
              "       [ 66.419106],\n",
              "       [ 66.58052 ],\n",
              "       [ 66.65959 ],\n",
              "       [ 66.69937 ],\n",
              "       [ 66.79635 ],\n",
              "       [ 66.97012 ],\n",
              "       [ 67.204254],\n",
              "       [ 67.459   ],\n",
              "       [ 67.70027 ],\n",
              "       [ 67.883026],\n",
              "       [ 67.98664 ],\n",
              "       [ 68.0037  ],\n",
              "       [ 67.924126],\n",
              "       [ 67.77501 ],\n",
              "       [ 67.58353 ],\n",
              "       [ 67.349075],\n",
              "       [ 67.08579 ],\n",
              "       [ 66.80642 ],\n",
              "       [ 66.49158 ],\n",
              "       [ 66.10954 ],\n",
              "       [ 65.594025],\n",
              "       [ 64.98019 ],\n",
              "       [ 64.32499 ],\n",
              "       [ 63.64738 ],\n",
              "       [ 62.956345],\n",
              "       [ 62.204746],\n",
              "       [ 61.328465],\n",
              "       [ 60.442898],\n",
              "       [ 59.60618 ],\n",
              "       [ 58.855724],\n",
              "       [ 58.211666],\n",
              "       [ 57.680775],\n",
              "       [ 57.33764 ],\n",
              "       [ 57.20018 ],\n",
              "       [ 57.299164],\n",
              "       [ 57.57379 ],\n",
              "       [ 57.95233 ],\n",
              "       [ 58.31553 ],\n",
              "       [ 58.650368],\n",
              "       [ 58.925964],\n",
              "       [ 59.136505],\n",
              "       [ 59.3116  ],\n",
              "       [ 59.47205 ],\n",
              "       [ 59.61217 ],\n",
              "       [ 59.696915],\n",
              "       [ 59.726257],\n",
              "       [ 59.70688 ],\n",
              "       [ 59.644962],\n",
              "       [ 59.556976],\n",
              "       [ 59.4496  ],\n",
              "       [ 59.3281  ],\n",
              "       [ 59.206886],\n",
              "       [ 59.110798],\n",
              "       [ 59.068806],\n",
              "       [ 59.108765],\n",
              "       [ 59.252895],\n",
              "       [ 59.463593],\n",
              "       [ 59.692253],\n",
              "       [ 59.918312],\n",
              "       [ 60.151367],\n",
              "       [ 60.4085  ],\n",
              "       [ 60.732086],\n",
              "       [ 61.14292 ],\n",
              "       [ 61.62934 ],\n",
              "       [ 62.19855 ],\n",
              "       [ 62.847023],\n",
              "       [ 63.523174],\n",
              "       [ 64.13784 ],\n",
              "       [ 64.69293 ],\n",
              "       [ 65.202156],\n",
              "       [ 65.65881 ],\n",
              "       [ 66.06041 ],\n",
              "       [ 66.43661 ],\n",
              "       [ 66.81852 ],\n",
              "       [ 67.19516 ],\n",
              "       [ 67.56962 ],\n",
              "       [ 67.97488 ],\n",
              "       [ 68.48687 ],\n",
              "       [ 69.11807 ],\n",
              "       [ 69.847694],\n",
              "       [ 70.70777 ],\n",
              "       [ 71.79742 ],\n",
              "       [ 73.119705],\n",
              "       [ 74.62224 ],\n",
              "       [ 76.21766 ],\n",
              "       [ 77.951195],\n",
              "       [ 79.7659  ],\n",
              "       [ 81.65616 ],\n",
              "       [ 83.677666],\n",
              "       [ 85.76807 ],\n",
              "       [ 87.83664 ],\n",
              "       [ 89.75619 ],\n",
              "       [ 91.47904 ],\n",
              "       [ 92.957344],\n",
              "       [ 94.1667  ],\n",
              "       [ 95.232605],\n",
              "       [ 96.22307 ],\n",
              "       [ 97.28965 ],\n",
              "       [ 98.43044 ],\n",
              "       [ 99.60986 ],\n",
              "       [100.84754 ],\n",
              "       [102.13743 ],\n",
              "       [103.39805 ],\n",
              "       [104.58117 ],\n",
              "       [105.57651 ],\n",
              "       [106.334114],\n",
              "       [106.83909 ],\n",
              "       [107.04964 ],\n",
              "       [106.98655 ],\n",
              "       [106.75329 ],\n",
              "       [106.377655],\n",
              "       [105.93225 ],\n",
              "       [105.455   ],\n",
              "       [104.95641 ],\n",
              "       [104.4466  ],\n",
              "       [104.031166],\n",
              "       [103.73635 ],\n",
              "       [103.559586],\n",
              "       [103.51223 ],\n",
              "       [103.58743 ],\n",
              "       [103.69154 ],\n",
              "       [103.77286 ],\n",
              "       [103.80802 ],\n",
              "       [103.77466 ],\n",
              "       [103.63556 ],\n",
              "       [103.35281 ],\n",
              "       [102.94992 ],\n",
              "       [102.436844],\n",
              "       [101.86003 ],\n",
              "       [101.3008  ],\n",
              "       [100.89157 ],\n",
              "       [100.6646  ],\n",
              "       [100.5888  ],\n",
              "       [100.64178 ],\n",
              "       [100.81548 ],\n",
              "       [101.109634],\n",
              "       [101.482254],\n",
              "       [101.91395 ],\n",
              "       [102.52731 ],\n",
              "       [103.30777 ],\n",
              "       [104.26234 ],\n",
              "       [105.46021 ],\n",
              "       [106.91437 ],\n",
              "       [108.54073 ],\n",
              "       [110.28297 ],\n",
              "       [111.97011 ],\n",
              "       [113.64664 ],\n",
              "       [115.357414],\n",
              "       [117.014534],\n",
              "       [118.57405 ],\n",
              "       [120.046715],\n",
              "       [121.482925],\n",
              "       [122.937546],\n",
              "       [124.32531 ],\n",
              "       [125.57602 ],\n",
              "       [126.74922 ],\n",
              "       [127.99874 ],\n",
              "       [129.5107  ],\n",
              "       [131.21361 ],\n",
              "       [133.04483 ],\n",
              "       [134.83276 ],\n",
              "       [136.52765 ],\n",
              "       [138.04753 ],\n",
              "       [139.33922 ],\n",
              "       [140.3659  ],\n",
              "       [141.17755 ],\n",
              "       [141.88214 ],\n",
              "       [142.62943 ],\n",
              "       [143.67474 ],\n",
              "       [144.98341 ],\n",
              "       [146.48021 ],\n",
              "       [148.24174 ],\n",
              "       [150.29492 ],\n",
              "       [152.54506 ],\n",
              "       [155.04222 ],\n",
              "       [157.82886 ],\n",
              "       [160.86324 ],\n",
              "       [164.0496  ],\n",
              "       [167.35255 ],\n",
              "       [170.93541 ],\n",
              "       [175.2515  ],\n",
              "       [180.13542 ],\n",
              "       [184.96474 ],\n",
              "       [189.4257  ],\n",
              "       [192.94618 ],\n",
              "       [195.60918 ],\n",
              "       [197.87961 ],\n",
              "       [200.06915 ],\n",
              "       [201.99849 ],\n",
              "       [203.70337 ],\n",
              "       [204.87045 ],\n",
              "       [205.5082  ],\n",
              "       [205.84004 ],\n",
              "       [205.97937 ],\n",
              "       [206.09024 ],\n",
              "       [206.53146 ],\n",
              "       [207.15494 ],\n",
              "       [207.66702 ],\n",
              "       [207.84491 ],\n",
              "       [207.50528 ],\n",
              "       [206.66066 ],\n",
              "       [205.17953 ],\n",
              "       [202.99127 ],\n",
              "       [200.26263 ],\n",
              "       [197.33073 ],\n",
              "       [194.04434 ],\n",
              "       [190.13167 ],\n",
              "       [186.058   ],\n",
              "       [182.28363 ],\n",
              "       [178.996   ],\n",
              "       [176.55846 ],\n",
              "       [175.4433  ],\n",
              "       [175.60461 ],\n",
              "       [176.8388  ],\n",
              "       [178.8148  ],\n",
              "       [181.07031 ],\n",
              "       [183.09386 ],\n",
              "       [184.84648 ],\n",
              "       [186.31305 ],\n",
              "       [187.35352 ],\n",
              "       [188.1076  ],\n",
              "       [188.97758 ],\n",
              "       [189.93674 ],\n",
              "       [191.00406 ],\n",
              "       [192.08946 ],\n",
              "       [193.25085 ],\n",
              "       [194.46918 ],\n",
              "       [195.55573 ],\n",
              "       [196.5247  ],\n",
              "       [197.25816 ],\n",
              "       [197.71303 ],\n",
              "       [197.84915 ],\n",
              "       [197.60901 ],\n",
              "       [196.93037 ],\n",
              "       [195.97606 ],\n",
              "       [195.09297 ],\n",
              "       [194.24649 ],\n",
              "       [193.5585  ],\n",
              "       [193.12108 ],\n",
              "       [192.97359 ],\n",
              "       [192.9968  ],\n",
              "       [193.1065  ],\n",
              "       [192.95193 ],\n",
              "       [192.67216 ],\n",
              "       [192.31819 ],\n",
              "       [191.91893 ],\n",
              "       [191.40039 ],\n",
              "       [190.64528 ],\n",
              "       [189.6221  ],\n",
              "       [188.5052  ],\n",
              "       [187.49986 ],\n",
              "       [186.73619 ],\n",
              "       [186.24713 ],\n",
              "       [186.22794 ],\n",
              "       [186.76646 ],\n",
              "       [187.78741 ],\n",
              "       [189.29967 ],\n",
              "       [191.18164 ],\n",
              "       [193.13245 ],\n",
              "       [195.04573 ],\n",
              "       [196.8284  ],\n",
              "       [198.42966 ],\n",
              "       [199.6458  ],\n",
              "       [200.40846 ],\n",
              "       [200.66777 ],\n",
              "       [200.48201 ],\n",
              "       [200.1056  ],\n",
              "       [199.64293 ],\n",
              "       [199.04164 ],\n",
              "       [198.24864 ],\n",
              "       [197.19104 ],\n",
              "       [196.03384 ],\n",
              "       [194.7403  ],\n",
              "       [193.3319  ]], dtype=float32)"
            ]
          },
          "metadata": {
            "tags": []
          },
          "execution_count": 165
        }
      ]
    },
    {
      "cell_type": "code",
      "metadata": {
        "colab": {
          "base_uri": "https://localhost:8080/"
        },
        "id": "GZM3a8KrYmFz",
        "outputId": "a36e59b8-4225-4dfc-828b-2b609264325c"
      },
      "source": [
        "import math \n",
        "from sklearn.metrics import  mean_squared_error\n",
        "math.sqrt(mean_squared_error(train_Y,train_predict))"
      ],
      "execution_count": 184,
      "outputs": [
        {
          "output_type": "execute_result",
          "data": {
            "text/plain": [
              "14537.532098965943"
            ]
          },
          "metadata": {
            "tags": []
          },
          "execution_count": 184
        }
      ]
    },
    {
      "cell_type": "code",
      "metadata": {
        "id": "XMFdwXqHGO1O"
      },
      "source": [
        ""
      ],
      "execution_count": 186,
      "outputs": []
    },
    {
      "cell_type": "code",
      "metadata": {
        "id": "G-epdJUsCOLz"
      },
      "source": [
        "train_Y  = train_Y"
      ],
      "execution_count": 180,
      "outputs": []
    },
    {
      "cell_type": "code",
      "metadata": {
        "id": "eAL5aLPADI0A"
      },
      "source": [
        "train_Y = scaler.inverse_transform(train_Y)"
      ],
      "execution_count": 181,
      "outputs": []
    },
    {
      "cell_type": "code",
      "metadata": {
        "colab": {
          "base_uri": "https://localhost:8080/"
        },
        "id": "2ScrKHzcDU4y",
        "outputId": "dd51dcd9-a806-4435-bde9-874929c96536"
      },
      "source": [
        "train_Y.shape\n"
      ],
      "execution_count": 182,
      "outputs": [
        {
          "output_type": "execute_result",
          "data": {
            "text/plain": [
              "(497, 1)"
            ]
          },
          "metadata": {
            "tags": []
          },
          "execution_count": 182
        }
      ]
    },
    {
      "cell_type": "code",
      "metadata": {
        "colab": {
          "base_uri": "https://localhost:8080/"
        },
        "id": "KHkVLPHwg3Fu",
        "outputId": "c098b100-2f43-4c97-9134-2c55e8c48fa7"
      },
      "source": [
        "math.sqrt(mean_squared_error(test_Y,test_predict))"
      ],
      "execution_count": 187,
      "outputs": [
        {
          "output_type": "execute_result",
          "data": {
            "text/plain": [
              "130.09064414626317"
            ]
          },
          "metadata": {
            "tags": []
          },
          "execution_count": 187
        }
      ]
    },
    {
      "cell_type": "code",
      "metadata": {
        "colab": {
          "base_uri": "https://localhost:8080/",
          "height": 1000
        },
        "id": "ixWd0QGXhARy",
        "outputId": "a26e5afa-4245-4fee-e5eb-79b8c6b4b1a2"
      },
      "source": [
        "# plotting \n",
        "# ahift train plotting\n",
        "plt.figure(figsize=(30,30))\n",
        "look_back = 60\n",
        "trainPredictPlot = np.empty_like(maindf)\n",
        "trainPredictPlot[:,:] = np.nan\n",
        "trainPredictPlot[look_back:len(train_predict)+look_back, :] = train_predict\n",
        "\n",
        "#shift test prediction \n",
        "\n",
        "testPredictPlot = np.empty_like(maindf)\n",
        "testPredictPlot[:,:] = np.nan\n",
        "testPredictPlot[len(train_predict)+(look_back*2)+1:len(maindf)-1, :] = test_predict\n",
        "\n",
        "#plot basline over prediction\n",
        "\n",
        "plt.plot(scaler.inverse_transform(maindf))\n",
        "plt.plot(trainPredictPlot)\n",
        "plt.plot(testPredictPlot)\n",
        "plt.show()\n",
        "#plt.savefig('Beximco Share price')\n"
      ],
      "execution_count": 192,
      "outputs": [
        {
          "output_type": "display_data",
          "data": {
            "image/png": "[encoded data removed]",
            "text/plain": [
              "<Figure size 2160x2160 with 1 Axes>"
            ]
          },
          "metadata": {
            "tags": [],
            "needs_background": "light"
          }
        }
      ]
    },
    {
      "cell_type": "code",
      "metadata": {
        "colab": {
          "base_uri": "https://localhost:8080/"
        },
        "id": "DilOzaylj7dA",
        "outputId": "788c85c6-a049-49a2-a10f-23859bcaffdc"
      },
      "source": [
        "len(test_data)"
      ],
      "execution_count": 193,
      "outputs": [
        {
          "output_type": "execute_result",
          "data": {
            "text/plain": [
              "372"
            ]
          },
          "metadata": {
            "tags": []
          },
          "execution_count": 193
        }
      ]
    },
    {
      "cell_type": "code",
      "metadata": {
        "colab": {
          "base_uri": "https://localhost:8080/"
        },
        "id": "97hj8P_BnQnF",
        "outputId": "bec7a9da-6353-4bbf-8b00-80eaf535be4a"
      },
      "source": [
        "372-60"
      ],
      "execution_count": 195,
      "outputs": [
        {
          "output_type": "execute_result",
          "data": {
            "text/plain": [
              "312"
            ]
          },
          "metadata": {
            "tags": []
          },
          "execution_count": 195
        }
      ]
    },
    {
      "cell_type": "code",
      "metadata": {
        "id": "HXqVZIT1naT5"
      },
      "source": [
        "x_input = test_data[312:372].reshape(1,-1)\n",
        "\n"
      ],
      "execution_count": 196,
      "outputs": []
    },
    {
      "cell_type": "code",
      "metadata": {
        "colab": {
          "base_uri": "https://localhost:8080/"
        },
        "id": "c7EkAlnO13we",
        "outputId": "b8f6cebc-65b0-42f2-aa6e-05a058aa82c6"
      },
      "source": [
        "x_input.shape"
      ],
      "execution_count": 197,
      "outputs": [
        {
          "output_type": "execute_result",
          "data": {
            "text/plain": [
              "(1, 60)"
            ]
          },
          "metadata": {
            "tags": []
          },
          "execution_count": 197
        }
      ]
    },
    {
      "cell_type": "code",
      "metadata": {
        "id": "5zv1Sdr-3M3G"
      },
      "source": [
        "temp_input = list(x_input)\n",
        "temp_input = temp_input[0].tolist()"
      ],
      "execution_count": 198,
      "outputs": []
    },
    {
      "cell_type": "code",
      "metadata": {
        "colab": {
          "base_uri": "https://localhost:8080/"
        },
        "id": "27DiwHYn362I",
        "outputId": "f5c38134-590a-44c7-8eb2-1785273141aa"
      },
      "source": [
        "len(temp_input)"
      ],
      "execution_count": 199,
      "outputs": [
        {
          "output_type": "execute_result",
          "data": {
            "text/plain": [
              "60"
            ]
          },
          "metadata": {
            "tags": []
          },
          "execution_count": 199
        }
      ]
    },
    {
      "cell_type": "code",
      "metadata": {
        "id": "mupxecDj38T_",
        "colab": {
          "base_uri": "https://localhost:8080/"
        },
        "outputId": "061e780e-799e-410a-df80-f3f9bffa4035"
      },
      "source": [
        "temp_input"
      ],
      "execution_count": 200,
      "outputs": [
        {
          "output_type": "execute_result",
          "data": {
            "text/plain": [
              "[0.7718819737168361,\n",
              " 0.8183734192908505,\n",
              " 0.8264319365236796,\n",
              " 0.7941978675923631,\n",
              " 0.8289114802876272,\n",
              " 0.9045375650880239,\n",
              " 0.8692040664517731,\n",
              " 0.8766426977436153,\n",
              " 0.8630052070419043,\n",
              " 0.8896603025043393,\n",
              " 0.8902801884453262,\n",
              " 0.8568063476320358,\n",
              " 0.877262583684602,\n",
              " 0.8537069179271015,\n",
              " 0.8499876022811803,\n",
              " 0.8394495412844036,\n",
              " 0.820852963054798,\n",
              " 0.798537069179271,\n",
              " 0.8233325068187454,\n",
              " 0.8754029258616416,\n",
              " 0.833870567815522,\n",
              " 0.8555665757500619,\n",
              " 0.8679642945697992,\n",
              " 0.873543268038681,\n",
              " 0.8506074882221673,\n",
              " 0.846888172576246,\n",
              " 0.7799404909496654,\n",
              " 0.8332506818745351,\n",
              " 0.8332506818745351,\n",
              " 0.8295313662286141,\n",
              " 0.8053558145301265,\n",
              " 0.7774609471857179,\n",
              " 0.7694024299528888,\n",
              " 0.7997768410612447,\n",
              " 0.8239523927597323,\n",
              " 0.8320109099925614,\n",
              " 0.8289114802876272,\n",
              " 0.8754029258616416,\n",
              " 0.8933796181502605,\n",
              " 0.886560872799405,\n",
              " 0.9144557401438136,\n",
              " 0.9107364244978924,\n",
              " 0.8747830399206546,\n",
              " 0.8902801884453262,\n",
              " 0.8915199603272999,\n",
              " 0.8946193900322341,\n",
              " 0.8568063476320358,\n",
              " 0.8524671460451276,\n",
              " 0.8388296553434169,\n",
              " 0.8419290850483512,\n",
              " 0.8791222415075628,\n",
              " 0.8723034961567073,\n",
              " 0.8425489709893379,\n",
              " 0.825192164641706,\n",
              " 0.8034961567071661,\n",
              " 0.833870567815522,\n",
              " 0.8041160426481528,\n",
              " 0.798537069179271,\n",
              " 0.7762211753037442,\n",
              " 0.7756012893627573]"
            ]
          },
          "metadata": {
            "tags": []
          },
          "execution_count": 200
        }
      ]
    },
    {
      "cell_type": "code",
      "metadata": {
        "colab": {
          "base_uri": "https://localhost:8080/"
        },
        "id": "yROhbec94F6d",
        "outputId": "23fb305d-b659-4ab0-8a17-cc96afff208c"
      },
      "source": [
        "x_input\n"
      ],
      "execution_count": 201,
      "outputs": [
        {
          "output_type": "execute_result",
          "data": {
            "text/plain": [
              "array([[0.77188197, 0.81837342, 0.82643194, 0.79419787, 0.82891148,\n",
              "        0.90453757, 0.86920407, 0.8766427 , 0.86300521, 0.8896603 ,\n",
              "        0.89028019, 0.85680635, 0.87726258, 0.85370692, 0.8499876 ,\n",
              "        0.83944954, 0.82085296, 0.79853707, 0.82333251, 0.87540293,\n",
              "        0.83387057, 0.85556658, 0.86796429, 0.87354327, 0.85060749,\n",
              "        0.84688817, 0.77994049, 0.83325068, 0.83325068, 0.82953137,\n",
              "        0.80535581, 0.77746095, 0.76940243, 0.79977684, 0.82395239,\n",
              "        0.83201091, 0.82891148, 0.87540293, 0.89337962, 0.88656087,\n",
              "        0.91445574, 0.91073642, 0.87478304, 0.89028019, 0.89151996,\n",
              "        0.89461939, 0.85680635, 0.85246715, 0.83882966, 0.84192909,\n",
              "        0.87912224, 0.8723035 , 0.84254897, 0.82519216, 0.80349616,\n",
              "        0.83387057, 0.80411604, 0.79853707, 0.77622118, 0.77560129]])"
            ]
          },
          "metadata": {
            "tags": []
          },
          "execution_count": 201
        }
      ]
    },
    {
      "cell_type": "code",
      "metadata": {
        "colab": {
          "base_uri": "https://localhost:8080/"
        },
        "id": "p7O0Z-yzo7Tl",
        "outputId": "fcdd042a-fd39-4e3b-802e-a025928326b6"
      },
      "source": [
        "from numpy import array\n",
        "\n",
        "lst_output=[]\n",
        "n_steps=60\n",
        "i=0\n",
        "while(i<30):\n",
        "    \n",
        "    if(len(temp_input)>60):\n",
        "        #print(temp_input)\n",
        "        x_input=np.array(temp_input[1:])\n",
        "        print(\"{} day input {}\".format(i,x_input))\n",
        "        x_input=x_input.reshape(1,-1)\n",
        "        x_input = x_input.reshape((1, n_steps, 1))\n",
        "        #print(x_input)\n",
        "        yhat = model.predict(x_input, verbose=0)\n",
        "        print(\"{} day output {}\".format(i,yhat))\n",
        "        temp_input.extend(yhat[0].tolist())\n",
        "        temp_input=temp_input[1:]\n",
        "        #print(temp_input)\n",
        "        lst_output.extend(yhat.tolist())\n",
        "        i=i+1\n",
        "    else:\n",
        "        x_input = x_input.reshape((1, n_steps,1))\n",
        "        yhat = model.predict(x_input, verbose=0)\n",
        "        print(yhat[0])\n",
        "        temp_input.extend(yhat[0].tolist())\n",
        "        print(len(temp_input))\n",
        "        lst_output.extend(yhat.tolist())\n",
        "        i=i+1\n",
        "    \n",
        "\n",
        "print(lst_output)"
      ],
      "execution_count": 202,
      "outputs": [
        {
          "output_type": "stream",
          "text": [
            "[0.8796385]\n",
            "61\n",
            "1 day input [0.81837342 0.82643194 0.79419787 0.82891148 0.90453757 0.86920407\n",
            " 0.8766427  0.86300521 0.8896603  0.89028019 0.85680635 0.87726258\n",
            " 0.85370692 0.8499876  0.83944954 0.82085296 0.79853707 0.82333251\n",
            " 0.87540293 0.83387057 0.85556658 0.86796429 0.87354327 0.85060749\n",
            " 0.84688817 0.77994049 0.83325068 0.83325068 0.82953137 0.80535581\n",
            " 0.77746095 0.76940243 0.79977684 0.82395239 0.83201091 0.82891148\n",
            " 0.87540293 0.89337962 0.88656087 0.91445574 0.91073642 0.87478304\n",
            " 0.89028019 0.89151996 0.89461939 0.85680635 0.85246715 0.83882966\n",
            " 0.84192909 0.87912224 0.8723035  0.84254897 0.82519216 0.80349616\n",
            " 0.83387057 0.80411604 0.79853707 0.77622118 0.77560129 0.87963849]\n",
            "1 day output [[0.8716953]]\n",
            "2 day input [0.82643194 0.79419787 0.82891148 0.90453757 0.86920407 0.8766427\n",
            " 0.86300521 0.8896603  0.89028019 0.85680635 0.87726258 0.85370692\n",
            " 0.8499876  0.83944954 0.82085296 0.79853707 0.82333251 0.87540293\n",
            " 0.83387057 0.85556658 0.86796429 0.87354327 0.85060749 0.84688817\n",
            " 0.77994049 0.83325068 0.83325068 0.82953137 0.80535581 0.77746095\n",
            " 0.76940243 0.79977684 0.82395239 0.83201091 0.82891148 0.87540293\n",
            " 0.89337962 0.88656087 0.91445574 0.91073642 0.87478304 0.89028019\n",
            " 0.89151996 0.89461939 0.85680635 0.85246715 0.83882966 0.84192909\n",
            " 0.87912224 0.8723035  0.84254897 0.82519216 0.80349616 0.83387057\n",
            " 0.80411604 0.79853707 0.77622118 0.77560129 0.87963849 0.87169528]\n",
            "2 day output [[0.86705565]]\n",
            "3 day input [0.79419787 0.82891148 0.90453757 0.86920407 0.8766427  0.86300521\n",
            " 0.8896603  0.89028019 0.85680635 0.87726258 0.85370692 0.8499876\n",
            " 0.83944954 0.82085296 0.79853707 0.82333251 0.87540293 0.83387057\n",
            " 0.85556658 0.86796429 0.87354327 0.85060749 0.84688817 0.77994049\n",
            " 0.83325068 0.83325068 0.82953137 0.80535581 0.77746095 0.76940243\n",
            " 0.79977684 0.82395239 0.83201091 0.82891148 0.87540293 0.89337962\n",
            " 0.88656087 0.91445574 0.91073642 0.87478304 0.89028019 0.89151996\n",
            " 0.89461939 0.85680635 0.85246715 0.83882966 0.84192909 0.87912224\n",
            " 0.8723035  0.84254897 0.82519216 0.80349616 0.83387057 0.80411604\n",
            " 0.79853707 0.77622118 0.77560129 0.87963849 0.87169528 0.86705565]\n",
            "3 day output [[0.8657469]]\n",
            "4 day input [0.82891148 0.90453757 0.86920407 0.8766427  0.86300521 0.8896603\n",
            " 0.89028019 0.85680635 0.87726258 0.85370692 0.8499876  0.83944954\n",
            " 0.82085296 0.79853707 0.82333251 0.87540293 0.83387057 0.85556658\n",
            " 0.86796429 0.87354327 0.85060749 0.84688817 0.77994049 0.83325068\n",
            " 0.83325068 0.82953137 0.80535581 0.77746095 0.76940243 0.79977684\n",
            " 0.82395239 0.83201091 0.82891148 0.87540293 0.89337962 0.88656087\n",
            " 0.91445574 0.91073642 0.87478304 0.89028019 0.89151996 0.89461939\n",
            " 0.85680635 0.85246715 0.83882966 0.84192909 0.87912224 0.8723035\n",
            " 0.84254897 0.82519216 0.80349616 0.83387057 0.80411604 0.79853707\n",
            " 0.77622118 0.77560129 0.87963849 0.87169528 0.86705565 0.86574692]\n",
            "4 day output [[0.8673714]]\n",
            "5 day input [0.90453757 0.86920407 0.8766427  0.86300521 0.8896603  0.89028019\n",
            " 0.85680635 0.87726258 0.85370692 0.8499876  0.83944954 0.82085296\n",
            " 0.79853707 0.82333251 0.87540293 0.83387057 0.85556658 0.86796429\n",
            " 0.87354327 0.85060749 0.84688817 0.77994049 0.83325068 0.83325068\n",
            " 0.82953137 0.80535581 0.77746095 0.76940243 0.79977684 0.82395239\n",
            " 0.83201091 0.82891148 0.87540293 0.89337962 0.88656087 0.91445574\n",
            " 0.91073642 0.87478304 0.89028019 0.89151996 0.89461939 0.85680635\n",
            " 0.85246715 0.83882966 0.84192909 0.87912224 0.8723035  0.84254897\n",
            " 0.82519216 0.80349616 0.83387057 0.80411604 0.79853707 0.77622118\n",
            " 0.77560129 0.87963849 0.87169528 0.86705565 0.86574692 0.86737138]\n",
            "5 day output [[0.8713666]]\n",
            "6 day input [0.86920407 0.8766427  0.86300521 0.8896603  0.89028019 0.85680635\n",
            " 0.87726258 0.85370692 0.8499876  0.83944954 0.82085296 0.79853707\n",
            " 0.82333251 0.87540293 0.83387057 0.85556658 0.86796429 0.87354327\n",
            " 0.85060749 0.84688817 0.77994049 0.83325068 0.83325068 0.82953137\n",
            " 0.80535581 0.77746095 0.76940243 0.79977684 0.82395239 0.83201091\n",
            " 0.82891148 0.87540293 0.89337962 0.88656087 0.91445574 0.91073642\n",
            " 0.87478304 0.89028019 0.89151996 0.89461939 0.85680635 0.85246715\n",
            " 0.83882966 0.84192909 0.87912224 0.8723035  0.84254897 0.82519216\n",
            " 0.80349616 0.83387057 0.80411604 0.79853707 0.77622118 0.77560129\n",
            " 0.87963849 0.87169528 0.86705565 0.86574692 0.86737138 0.87136662]\n",
            "6 day output [[0.8771622]]\n",
            "7 day input [0.8766427  0.86300521 0.8896603  0.89028019 0.85680635 0.87726258\n",
            " 0.85370692 0.8499876  0.83944954 0.82085296 0.79853707 0.82333251\n",
            " 0.87540293 0.83387057 0.85556658 0.86796429 0.87354327 0.85060749\n",
            " 0.84688817 0.77994049 0.83325068 0.83325068 0.82953137 0.80535581\n",
            " 0.77746095 0.76940243 0.79977684 0.82395239 0.83201091 0.82891148\n",
            " 0.87540293 0.89337962 0.88656087 0.91445574 0.91073642 0.87478304\n",
            " 0.89028019 0.89151996 0.89461939 0.85680635 0.85246715 0.83882966\n",
            " 0.84192909 0.87912224 0.8723035  0.84254897 0.82519216 0.80349616\n",
            " 0.83387057 0.80411604 0.79853707 0.77622118 0.77560129 0.87963849\n",
            " 0.87169528 0.86705565 0.86574692 0.86737138 0.87136662 0.87716222]\n",
            "7 day output [[0.8842637]]\n",
            "8 day input [0.86300521 0.8896603  0.89028019 0.85680635 0.87726258 0.85370692\n",
            " 0.8499876  0.83944954 0.82085296 0.79853707 0.82333251 0.87540293\n",
            " 0.83387057 0.85556658 0.86796429 0.87354327 0.85060749 0.84688817\n",
            " 0.77994049 0.83325068 0.83325068 0.82953137 0.80535581 0.77746095\n",
            " 0.76940243 0.79977684 0.82395239 0.83201091 0.82891148 0.87540293\n",
            " 0.89337962 0.88656087 0.91445574 0.91073642 0.87478304 0.89028019\n",
            " 0.89151996 0.89461939 0.85680635 0.85246715 0.83882966 0.84192909\n",
            " 0.87912224 0.8723035  0.84254897 0.82519216 0.80349616 0.83387057\n",
            " 0.80411604 0.79853707 0.77622118 0.77560129 0.87963849 0.87169528\n",
            " 0.86705565 0.86574692 0.86737138 0.87136662 0.87716222 0.88426369]\n",
            "8 day output [[0.89228916]]\n",
            "9 day input [0.8896603  0.89028019 0.85680635 0.87726258 0.85370692 0.8499876\n",
            " 0.83944954 0.82085296 0.79853707 0.82333251 0.87540293 0.83387057\n",
            " 0.85556658 0.86796429 0.87354327 0.85060749 0.84688817 0.77994049\n",
            " 0.83325068 0.83325068 0.82953137 0.80535581 0.77746095 0.76940243\n",
            " 0.79977684 0.82395239 0.83201091 0.82891148 0.87540293 0.89337962\n",
            " 0.88656087 0.91445574 0.91073642 0.87478304 0.89028019 0.89151996\n",
            " 0.89461939 0.85680635 0.85246715 0.83882966 0.84192909 0.87912224\n",
            " 0.8723035  0.84254897 0.82519216 0.80349616 0.83387057 0.80411604\n",
            " 0.79853707 0.77622118 0.77560129 0.87963849 0.87169528 0.86705565\n",
            " 0.86574692 0.86737138 0.87136662 0.87716222 0.88426369 0.89228916]\n",
            "9 day output [[0.90096784]]\n",
            "10 day input [0.89028019 0.85680635 0.87726258 0.85370692 0.8499876  0.83944954\n",
            " 0.82085296 0.79853707 0.82333251 0.87540293 0.83387057 0.85556658\n",
            " 0.86796429 0.87354327 0.85060749 0.84688817 0.77994049 0.83325068\n",
            " 0.83325068 0.82953137 0.80535581 0.77746095 0.76940243 0.79977684\n",
            " 0.82395239 0.83201091 0.82891148 0.87540293 0.89337962 0.88656087\n",
            " 0.91445574 0.91073642 0.87478304 0.89028019 0.89151996 0.89461939\n",
            " 0.85680635 0.85246715 0.83882966 0.84192909 0.87912224 0.8723035\n",
            " 0.84254897 0.82519216 0.80349616 0.83387057 0.80411604 0.79853707\n",
            " 0.77622118 0.77560129 0.87963849 0.87169528 0.86705565 0.86574692\n",
            " 0.86737138 0.87136662 0.87716222 0.88426369 0.89228916 0.90096784]\n",
            "10 day output [[0.9101265]]\n",
            "11 day input [0.85680635 0.87726258 0.85370692 0.8499876  0.83944954 0.82085296\n",
            " 0.79853707 0.82333251 0.87540293 0.83387057 0.85556658 0.86796429\n",
            " 0.87354327 0.85060749 0.84688817 0.77994049 0.83325068 0.83325068\n",
            " 0.82953137 0.80535581 0.77746095 0.76940243 0.79977684 0.82395239\n",
            " 0.83201091 0.82891148 0.87540293 0.89337962 0.88656087 0.91445574\n",
            " 0.91073642 0.87478304 0.89028019 0.89151996 0.89461939 0.85680635\n",
            " 0.85246715 0.83882966 0.84192909 0.87912224 0.8723035  0.84254897\n",
            " 0.82519216 0.80349616 0.83387057 0.80411604 0.79853707 0.77622118\n",
            " 0.77560129 0.87963849 0.87169528 0.86705565 0.86574692 0.86737138\n",
            " 0.87136662 0.87716222 0.88426369 0.89228916 0.90096784 0.91012651]\n",
            "11 day output [[0.91966677]]\n",
            "12 day input [0.87726258 0.85370692 0.8499876  0.83944954 0.82085296 0.79853707\n",
            " 0.82333251 0.87540293 0.83387057 0.85556658 0.86796429 0.87354327\n",
            " 0.85060749 0.84688817 0.77994049 0.83325068 0.83325068 0.82953137\n",
            " 0.80535581 0.77746095 0.76940243 0.79977684 0.82395239 0.83201091\n",
            " 0.82891148 0.87540293 0.89337962 0.88656087 0.91445574 0.91073642\n",
            " 0.87478304 0.89028019 0.89151996 0.89461939 0.85680635 0.85246715\n",
            " 0.83882966 0.84192909 0.87912224 0.8723035  0.84254897 0.82519216\n",
            " 0.80349616 0.83387057 0.80411604 0.79853707 0.77622118 0.77560129\n",
            " 0.87963849 0.87169528 0.86705565 0.86574692 0.86737138 0.87136662\n",
            " 0.87716222 0.88426369 0.89228916 0.90096784 0.91012651 0.91966677]\n",
            "12 day output [[0.92954284]]\n",
            "13 day input [0.85370692 0.8499876  0.83944954 0.82085296 0.79853707 0.82333251\n",
            " 0.87540293 0.83387057 0.85556658 0.86796429 0.87354327 0.85060749\n",
            " 0.84688817 0.77994049 0.83325068 0.83325068 0.82953137 0.80535581\n",
            " 0.77746095 0.76940243 0.79977684 0.82395239 0.83201091 0.82891148\n",
            " 0.87540293 0.89337962 0.88656087 0.91445574 0.91073642 0.87478304\n",
            " 0.89028019 0.89151996 0.89461939 0.85680635 0.85246715 0.83882966\n",
            " 0.84192909 0.87912224 0.8723035  0.84254897 0.82519216 0.80349616\n",
            " 0.83387057 0.80411604 0.79853707 0.77622118 0.77560129 0.87963849\n",
            " 0.87169528 0.86705565 0.86574692 0.86737138 0.87136662 0.87716222\n",
            " 0.88426369 0.89228916 0.90096784 0.91012651 0.91966677 0.92954284]\n",
            "13 day output [[0.93974566]]\n",
            "14 day input [0.8499876  0.83944954 0.82085296 0.79853707 0.82333251 0.87540293\n",
            " 0.83387057 0.85556658 0.86796429 0.87354327 0.85060749 0.84688817\n",
            " 0.77994049 0.83325068 0.83325068 0.82953137 0.80535581 0.77746095\n",
            " 0.76940243 0.79977684 0.82395239 0.83201091 0.82891148 0.87540293\n",
            " 0.89337962 0.88656087 0.91445574 0.91073642 0.87478304 0.89028019\n",
            " 0.89151996 0.89461939 0.85680635 0.85246715 0.83882966 0.84192909\n",
            " 0.87912224 0.8723035  0.84254897 0.82519216 0.80349616 0.83387057\n",
            " 0.80411604 0.79853707 0.77622118 0.77560129 0.87963849 0.87169528\n",
            " 0.86705565 0.86574692 0.86737138 0.87136662 0.87716222 0.88426369\n",
            " 0.89228916 0.90096784 0.91012651 0.91966677 0.92954284 0.93974566]\n",
            "14 day output [[0.9502848]]\n",
            "15 day input [0.83944954 0.82085296 0.79853707 0.82333251 0.87540293 0.83387057\n",
            " 0.85556658 0.86796429 0.87354327 0.85060749 0.84688817 0.77994049\n",
            " 0.83325068 0.83325068 0.82953137 0.80535581 0.77746095 0.76940243\n",
            " 0.79977684 0.82395239 0.83201091 0.82891148 0.87540293 0.89337962\n",
            " 0.88656087 0.91445574 0.91073642 0.87478304 0.89028019 0.89151996\n",
            " 0.89461939 0.85680635 0.85246715 0.83882966 0.84192909 0.87912224\n",
            " 0.8723035  0.84254897 0.82519216 0.80349616 0.83387057 0.80411604\n",
            " 0.79853707 0.77622118 0.77560129 0.87963849 0.87169528 0.86705565\n",
            " 0.86574692 0.86737138 0.87136662 0.87716222 0.88426369 0.89228916\n",
            " 0.90096784 0.91012651 0.91966677 0.92954284 0.93974566 0.95028478]\n",
            "15 day output [[0.96118194]]\n",
            "16 day input [0.82085296 0.79853707 0.82333251 0.87540293 0.83387057 0.85556658\n",
            " 0.86796429 0.87354327 0.85060749 0.84688817 0.77994049 0.83325068\n",
            " 0.83325068 0.82953137 0.80535581 0.77746095 0.76940243 0.79977684\n",
            " 0.82395239 0.83201091 0.82891148 0.87540293 0.89337962 0.88656087\n",
            " 0.91445574 0.91073642 0.87478304 0.89028019 0.89151996 0.89461939\n",
            " 0.85680635 0.85246715 0.83882966 0.84192909 0.87912224 0.8723035\n",
            " 0.84254897 0.82519216 0.80349616 0.83387057 0.80411604 0.79853707\n",
            " 0.77622118 0.77560129 0.87963849 0.87169528 0.86705565 0.86574692\n",
            " 0.86737138 0.87136662 0.87716222 0.88426369 0.89228916 0.90096784\n",
            " 0.91012651 0.91966677 0.92954284 0.93974566 0.95028478 0.96118194]\n",
            "16 day output [[0.97246325]]\n",
            "17 day input [0.79853707 0.82333251 0.87540293 0.83387057 0.85556658 0.86796429\n",
            " 0.87354327 0.85060749 0.84688817 0.77994049 0.83325068 0.83325068\n",
            " 0.82953137 0.80535581 0.77746095 0.76940243 0.79977684 0.82395239\n",
            " 0.83201091 0.82891148 0.87540293 0.89337962 0.88656087 0.91445574\n",
            " 0.91073642 0.87478304 0.89028019 0.89151996 0.89461939 0.85680635\n",
            " 0.85246715 0.83882966 0.84192909 0.87912224 0.8723035  0.84254897\n",
            " 0.82519216 0.80349616 0.83387057 0.80411604 0.79853707 0.77622118\n",
            " 0.77560129 0.87963849 0.87169528 0.86705565 0.86574692 0.86737138\n",
            " 0.87136662 0.87716222 0.88426369 0.89228916 0.90096784 0.91012651\n",
            " 0.91966677 0.92954284 0.93974566 0.95028478 0.96118194 0.97246325]\n",
            "17 day output [[0.98415464]]\n",
            "18 day input [0.82333251 0.87540293 0.83387057 0.85556658 0.86796429 0.87354327\n",
            " 0.85060749 0.84688817 0.77994049 0.83325068 0.83325068 0.82953137\n",
            " 0.80535581 0.77746095 0.76940243 0.79977684 0.82395239 0.83201091\n",
            " 0.82891148 0.87540293 0.89337962 0.88656087 0.91445574 0.91073642\n",
            " 0.87478304 0.89028019 0.89151996 0.89461939 0.85680635 0.85246715\n",
            " 0.83882966 0.84192909 0.87912224 0.8723035  0.84254897 0.82519216\n",
            " 0.80349616 0.83387057 0.80411604 0.79853707 0.77622118 0.77560129\n",
            " 0.87963849 0.87169528 0.86705565 0.86574692 0.86737138 0.87136662\n",
            " 0.87716222 0.88426369 0.89228916 0.90096784 0.91012651 0.91966677\n",
            " 0.92954284 0.93974566 0.95028478 0.96118194 0.97246325 0.98415464]\n",
            "18 day output [[0.99628276]]\n",
            "19 day input [0.87540293 0.83387057 0.85556658 0.86796429 0.87354327 0.85060749\n",
            " 0.84688817 0.77994049 0.83325068 0.83325068 0.82953137 0.80535581\n",
            " 0.77746095 0.76940243 0.79977684 0.82395239 0.83201091 0.82891148\n",
            " 0.87540293 0.89337962 0.88656087 0.91445574 0.91073642 0.87478304\n",
            " 0.89028019 0.89151996 0.89461939 0.85680635 0.85246715 0.83882966\n",
            " 0.84192909 0.87912224 0.8723035  0.84254897 0.82519216 0.80349616\n",
            " 0.83387057 0.80411604 0.79853707 0.77622118 0.77560129 0.87963849\n",
            " 0.87169528 0.86705565 0.86574692 0.86737138 0.87136662 0.87716222\n",
            " 0.88426369 0.89228916 0.90096784 0.91012651 0.91966677 0.92954284\n",
            " 0.93974566 0.95028478 0.96118194 0.97246325 0.98415464 0.99628276]\n",
            "19 day output [[1.008873]]\n",
            "20 day input [0.83387057 0.85556658 0.86796429 0.87354327 0.85060749 0.84688817\n",
            " 0.77994049 0.83325068 0.83325068 0.82953137 0.80535581 0.77746095\n",
            " 0.76940243 0.79977684 0.82395239 0.83201091 0.82891148 0.87540293\n",
            " 0.89337962 0.88656087 0.91445574 0.91073642 0.87478304 0.89028019\n",
            " 0.89151996 0.89461939 0.85680635 0.85246715 0.83882966 0.84192909\n",
            " 0.87912224 0.8723035  0.84254897 0.82519216 0.80349616 0.83387057\n",
            " 0.80411604 0.79853707 0.77622118 0.77560129 0.87963849 0.87169528\n",
            " 0.86705565 0.86574692 0.86737138 0.87136662 0.87716222 0.88426369\n",
            " 0.89228916 0.90096784 0.91012651 0.91966677 0.92954284 0.93974566\n",
            " 0.95028478 0.96118194 0.97246325 0.98415464 0.99628276 1.00887299]\n",
            "20 day output [[1.0219506]]\n",
            "21 day input [0.85556658 0.86796429 0.87354327 0.85060749 0.84688817 0.77994049\n",
            " 0.83325068 0.83325068 0.82953137 0.80535581 0.77746095 0.76940243\n",
            " 0.79977684 0.82395239 0.83201091 0.82891148 0.87540293 0.89337962\n",
            " 0.88656087 0.91445574 0.91073642 0.87478304 0.89028019 0.89151996\n",
            " 0.89461939 0.85680635 0.85246715 0.83882966 0.84192909 0.87912224\n",
            " 0.8723035  0.84254897 0.82519216 0.80349616 0.83387057 0.80411604\n",
            " 0.79853707 0.77622118 0.77560129 0.87963849 0.87169528 0.86705565\n",
            " 0.86574692 0.86737138 0.87136662 0.87716222 0.88426369 0.89228916\n",
            " 0.90096784 0.91012651 0.91966677 0.92954284 0.93974566 0.95028478\n",
            " 0.96118194 0.97246325 0.98415464 0.99628276 1.00887299 1.0219506 ]\n",
            "21 day output [[1.0355381]]\n",
            "22 day input [0.86796429 0.87354327 0.85060749 0.84688817 0.77994049 0.83325068\n",
            " 0.83325068 0.82953137 0.80535581 0.77746095 0.76940243 0.79977684\n",
            " 0.82395239 0.83201091 0.82891148 0.87540293 0.89337962 0.88656087\n",
            " 0.91445574 0.91073642 0.87478304 0.89028019 0.89151996 0.89461939\n",
            " 0.85680635 0.85246715 0.83882966 0.84192909 0.87912224 0.8723035\n",
            " 0.84254897 0.82519216 0.80349616 0.83387057 0.80411604 0.79853707\n",
            " 0.77622118 0.77560129 0.87963849 0.87169528 0.86705565 0.86574692\n",
            " 0.86737138 0.87136662 0.87716222 0.88426369 0.89228916 0.90096784\n",
            " 0.91012651 0.91966677 0.92954284 0.93974566 0.95028478 0.96118194\n",
            " 0.97246325 0.98415464 0.99628276 1.00887299 1.0219506  1.03553808]\n",
            "22 day output [[1.049661]]\n",
            "23 day input [0.87354327 0.85060749 0.84688817 0.77994049 0.83325068 0.83325068\n",
            " 0.82953137 0.80535581 0.77746095 0.76940243 0.79977684 0.82395239\n",
            " 0.83201091 0.82891148 0.87540293 0.89337962 0.88656087 0.91445574\n",
            " 0.91073642 0.87478304 0.89028019 0.89151996 0.89461939 0.85680635\n",
            " 0.85246715 0.83882966 0.84192909 0.87912224 0.8723035  0.84254897\n",
            " 0.82519216 0.80349616 0.83387057 0.80411604 0.79853707 0.77622118\n",
            " 0.77560129 0.87963849 0.87169528 0.86705565 0.86574692 0.86737138\n",
            " 0.87136662 0.87716222 0.88426369 0.89228916 0.90096784 0.91012651\n",
            " 0.91966677 0.92954284 0.93974566 0.95028478 0.96118194 0.97246325\n",
            " 0.98415464 0.99628276 1.00887299 1.0219506  1.03553808 1.04966104]\n",
            "23 day output [[1.0643451]]\n",
            "24 day input [0.85060749 0.84688817 0.77994049 0.83325068 0.83325068 0.82953137\n",
            " 0.80535581 0.77746095 0.76940243 0.79977684 0.82395239 0.83201091\n",
            " 0.82891148 0.87540293 0.89337962 0.88656087 0.91445574 0.91073642\n",
            " 0.87478304 0.89028019 0.89151996 0.89461939 0.85680635 0.85246715\n",
            " 0.83882966 0.84192909 0.87912224 0.8723035  0.84254897 0.82519216\n",
            " 0.80349616 0.83387057 0.80411604 0.79853707 0.77622118 0.77560129\n",
            " 0.87963849 0.87169528 0.86705565 0.86574692 0.86737138 0.87136662\n",
            " 0.87716222 0.88426369 0.89228916 0.90096784 0.91012651 0.91966677\n",
            " 0.92954284 0.93974566 0.95028478 0.96118194 0.97246325 0.98415464\n",
            " 0.99628276 1.00887299 1.0219506  1.03553808 1.04966104 1.06434512]\n",
            "24 day output [[1.079616]]\n",
            "25 day input [0.84688817 0.77994049 0.83325068 0.83325068 0.82953137 0.80535581\n",
            " 0.77746095 0.76940243 0.79977684 0.82395239 0.83201091 0.82891148\n",
            " 0.87540293 0.89337962 0.88656087 0.91445574 0.91073642 0.87478304\n",
            " 0.89028019 0.89151996 0.89461939 0.85680635 0.85246715 0.83882966\n",
            " 0.84192909 0.87912224 0.8723035  0.84254897 0.82519216 0.80349616\n",
            " 0.83387057 0.80411604 0.79853707 0.77622118 0.77560129 0.87963849\n",
            " 0.87169528 0.86705565 0.86574692 0.86737138 0.87136662 0.87716222\n",
            " 0.88426369 0.89228916 0.90096784 0.91012651 0.91966677 0.92954284\n",
            " 0.93974566 0.95028478 0.96118194 0.97246325 0.98415464 0.99628276\n",
            " 1.00887299 1.0219506  1.03553808 1.04966104 1.06434512 1.07961595]\n",
            "25 day output [[1.0955021]]\n",
            "26 day input [0.77994049 0.83325068 0.83325068 0.82953137 0.80535581 0.77746095\n",
            " 0.76940243 0.79977684 0.82395239 0.83201091 0.82891148 0.87540293\n",
            " 0.89337962 0.88656087 0.91445574 0.91073642 0.87478304 0.89028019\n",
            " 0.89151996 0.89461939 0.85680635 0.85246715 0.83882966 0.84192909\n",
            " 0.87912224 0.8723035  0.84254897 0.82519216 0.80349616 0.83387057\n",
            " 0.80411604 0.79853707 0.77622118 0.77560129 0.87963849 0.87169528\n",
            " 0.86705565 0.86574692 0.86737138 0.87136662 0.87716222 0.88426369\n",
            " 0.89228916 0.90096784 0.91012651 0.91966677 0.92954284 0.93974566\n",
            " 0.95028478 0.96118194 0.97246325 0.98415464 0.99628276 1.00887299\n",
            " 1.0219506  1.03553808 1.04966104 1.06434512 1.07961595 1.09550214]\n",
            "26 day output [[1.1120332]]\n",
            "27 day input [0.83325068 0.83325068 0.82953137 0.80535581 0.77746095 0.76940243\n",
            " 0.79977684 0.82395239 0.83201091 0.82891148 0.87540293 0.89337962\n",
            " 0.88656087 0.91445574 0.91073642 0.87478304 0.89028019 0.89151996\n",
            " 0.89461939 0.85680635 0.85246715 0.83882966 0.84192909 0.87912224\n",
            " 0.8723035  0.84254897 0.82519216 0.80349616 0.83387057 0.80411604\n",
            " 0.79853707 0.77622118 0.77560129 0.87963849 0.87169528 0.86705565\n",
            " 0.86574692 0.86737138 0.87136662 0.87716222 0.88426369 0.89228916\n",
            " 0.90096784 0.91012651 0.91966677 0.92954284 0.93974566 0.95028478\n",
            " 0.96118194 0.97246325 0.98415464 0.99628276 1.00887299 1.0219506\n",
            " 1.03553808 1.04966104 1.06434512 1.07961595 1.09550214 1.11203325]\n",
            "27 day output [[1.1292394]]\n",
            "28 day input [0.83325068 0.82953137 0.80535581 0.77746095 0.76940243 0.79977684\n",
            " 0.82395239 0.83201091 0.82891148 0.87540293 0.89337962 0.88656087\n",
            " 0.91445574 0.91073642 0.87478304 0.89028019 0.89151996 0.89461939\n",
            " 0.85680635 0.85246715 0.83882966 0.84192909 0.87912224 0.8723035\n",
            " 0.84254897 0.82519216 0.80349616 0.83387057 0.80411604 0.79853707\n",
            " 0.77622118 0.77560129 0.87963849 0.87169528 0.86705565 0.86574692\n",
            " 0.86737138 0.87136662 0.87716222 0.88426369 0.89228916 0.90096784\n",
            " 0.91012651 0.91966677 0.92954284 0.93974566 0.95028478 0.96118194\n",
            " 0.97246325 0.98415464 0.99628276 1.00887299 1.0219506  1.03553808\n",
            " 1.04966104 1.06434512 1.07961595 1.09550214 1.11203325 1.12923944]\n",
            "28 day output [[1.1471564]]\n",
            "29 day input [0.82953137 0.80535581 0.77746095 0.76940243 0.79977684 0.82395239\n",
            " 0.83201091 0.82891148 0.87540293 0.89337962 0.88656087 0.91445574\n",
            " 0.91073642 0.87478304 0.89028019 0.89151996 0.89461939 0.85680635\n",
            " 0.85246715 0.83882966 0.84192909 0.87912224 0.8723035  0.84254897\n",
            " 0.82519216 0.80349616 0.83387057 0.80411604 0.79853707 0.77622118\n",
            " 0.77560129 0.87963849 0.87169528 0.86705565 0.86574692 0.86737138\n",
            " 0.87136662 0.87716222 0.88426369 0.89228916 0.90096784 0.91012651\n",
            " 0.91966677 0.92954284 0.93974566 0.95028478 0.96118194 0.97246325\n",
            " 0.98415464 0.99628276 1.00887299 1.0219506  1.03553808 1.04966104\n",
            " 1.06434512 1.07961595 1.09550214 1.11203325 1.12923944 1.14715636]\n",
            "29 day output [[1.1658176]]\n",
            "[[0.8796384930610657], [0.8716952800750732], [0.8670556545257568], [0.8657469153404236], [0.8673713803291321], [0.8713666200637817], [0.8771622180938721], [0.8842636942863464], [0.8922891616821289], [0.9009678363800049], [0.9101265072822571], [0.9196667671203613], [0.9295428395271301], [0.9397456645965576], [0.9502847790718079], [0.9611819386482239], [0.9724632501602173], [0.9841546416282654], [0.9962827563285828], [1.0088729858398438], [1.021950602531433], [1.0355380773544312], [1.0496610403060913], [1.064345121383667], [1.0796159505844116], [1.0955021381378174], [1.1120332479476929], [1.1292394399642944], [1.1471563577651978], [1.1658176183700562]]\n"
          ],
          "name": "stdout"
        }
      ]
    },
    {
      "cell_type": "code",
      "metadata": {
        "colab": {
          "base_uri": "https://localhost:8080/"
        },
        "id": "DQeONAeypKyr",
        "outputId": "69dd1fac-d759-41a8-8080-e79c635116dc"
      },
      "source": [
        "scaler.inverse_transform(lst_output)"
      ],
      "execution_count": 203,
      "outputs": [
        {
          "output_type": "execute_result",
          "data": {
            "text/plain": [
              "array([[190.0832817 ],\n",
              "       [188.80188258],\n",
              "       [188.05341819],\n",
              "       [187.84229238],\n",
              "       [188.10435107],\n",
              "       [188.74886315],\n",
              "       [189.68380902],\n",
              "       [190.82941916],\n",
              "       [192.12408756],\n",
              "       [193.52413136],\n",
              "       [195.00160815],\n",
              "       [196.54064287],\n",
              "       [198.13385087],\n",
              "       [199.77977061],\n",
              "       [201.47994056],\n",
              "       [203.23787034],\n",
              "       [205.05777152],\n",
              "       [206.94382679],\n",
              "       [208.90033425],\n",
              "       [210.93139008],\n",
              "       [213.0410712 ],\n",
              "       [215.23300264],\n",
              "       [217.51131902],\n",
              "       [219.88015498],\n",
              "       [222.34364515],\n",
              "       [224.90640492],\n",
              "       [227.57320356],\n",
              "       [230.34890646],\n",
              "       [233.23926363],\n",
              "       [236.2496982 ]])"
            ]
          },
          "metadata": {
            "tags": []
          },
          "execution_count": 203
        }
      ]
    },
    {
      "cell_type": "code",
      "metadata": {
        "colab": {
          "base_uri": "https://localhost:8080/"
        },
        "id": "E4DiXMuwpWyi",
        "outputId": "554c5352-4266-49f9-f6e3-5459b389b3b2"
      },
      "source": [
        "len(lst_output)"
      ],
      "execution_count": 204,
      "outputs": [
        {
          "output_type": "execute_result",
          "data": {
            "text/plain": [
              "30"
            ]
          },
          "metadata": {
            "tags": []
          },
          "execution_count": 204
        }
      ]
    },
    {
      "cell_type": "code",
      "metadata": {
        "colab": {
          "base_uri": "https://localhost:8080/"
        },
        "id": "ukX0WRRTpgbT",
        "outputId": "d01de3c6-304a-4408-a4ff-71ce2477d3e4"
      },
      "source": [
        "lst_outputs"
      ],
      "execution_count": 205,
      "outputs": [
        {
          "output_type": "execute_result",
          "data": {
            "text/plain": [
              "[]"
            ]
          },
          "metadata": {
            "tags": []
          },
          "execution_count": 205
        }
      ]
    },
    {
      "cell_type": "code",
      "metadata": {
        "colab": {
          "base_uri": "https://localhost:8080/"
        },
        "id": "FPQ0crF5pu8M",
        "outputId": "4b009181-ec4f-4c19-e3ff-717e915e859a"
      },
      "source": [
        "len(temp_input)"
      ],
      "execution_count": 206,
      "outputs": [
        {
          "output_type": "execute_result",
          "data": {
            "text/plain": [
              "61"
            ]
          },
          "metadata": {
            "tags": []
          },
          "execution_count": 206
        }
      ]
    },
    {
      "cell_type": "code",
      "metadata": {
        "id": "jmuNMMY9p3OH"
      },
      "source": [
        "day_new=np.arange(1,61)\n",
        "day_pred=np.arange(61,91)"
      ],
      "execution_count": 207,
      "outputs": []
    },
    {
      "cell_type": "code",
      "metadata": {
        "colab": {
          "base_uri": "https://localhost:8080/"
        },
        "id": "8zWL5Pr6IVyX",
        "outputId": "79f7187e-5f03-48c9-d4a2-5e6c723048b9"
      },
      "source": [
        "len(maindf)"
      ],
      "execution_count": 208,
      "outputs": [
        {
          "output_type": "execute_result",
          "data": {
            "text/plain": [
              "930"
            ]
          },
          "metadata": {
            "tags": []
          },
          "execution_count": 208
        }
      ]
    },
    {
      "cell_type": "code",
      "metadata": {
        "colab": {
          "base_uri": "https://localhost:8080/"
        },
        "id": "8TLy2cj9Iexj",
        "outputId": "2b0f6836-d3d0-43fc-ee18-408d1f5c7f32"
      },
      "source": [
        "lst_output"
      ],
      "execution_count": 210,
      "outputs": [
        {
          "output_type": "execute_result",
          "data": {
            "text/plain": [
              "[[0.8796384930610657],\n",
              " [0.8716952800750732],\n",
              " [0.8670556545257568],\n",
              " [0.8657469153404236],\n",
              " [0.8673713803291321],\n",
              " [0.8713666200637817],\n",
              " [0.8771622180938721],\n",
              " [0.8842636942863464],\n",
              " [0.8922891616821289],\n",
              " [0.9009678363800049],\n",
              " [0.9101265072822571],\n",
              " [0.9196667671203613],\n",
              " [0.9295428395271301],\n",
              " [0.9397456645965576],\n",
              " [0.9502847790718079],\n",
              " [0.9611819386482239],\n",
              " [0.9724632501602173],\n",
              " [0.9841546416282654],\n",
              " [0.9962827563285828],\n",
              " [1.0088729858398438],\n",
              " [1.021950602531433],\n",
              " [1.0355380773544312],\n",
              " [1.0496610403060913],\n",
              " [1.064345121383667],\n",
              " [1.0796159505844116],\n",
              " [1.0955021381378174],\n",
              " [1.1120332479476929],\n",
              " [1.1292394399642944],\n",
              " [1.1471563577651978],\n",
              " [1.1658176183700562]]"
            ]
          },
          "metadata": {
            "tags": []
          },
          "execution_count": 210
        }
      ]
    },
    {
      "cell_type": "code",
      "metadata": {
        "colab": {
          "base_uri": "https://localhost:8080/",
          "height": 282
        },
        "id": "oiMMOELCIxQ0",
        "outputId": "776e94f3-85de-4c12-8586-b08ed7af10a5"
      },
      "source": [
        "\n",
        "plt.plot(day_new,scaler.inverse_transform(maindf[870:]))\n",
        "plt.plot(day_pred,scaler.inverse_transform(lst_output))"
      ],
      "execution_count": 213,
      "outputs": [
        {
          "output_type": "execute_result",
          "data": {
            "text/plain": [
              "[<matplotlib.lines.Line2D at 0x7f1ccd9331d0>]"
            ]
          },
          "metadata": {
            "tags": []
          },
          "execution_count": 213
        },
        {
          "output_type": "display_data",
          "data": {
            "image/png": "[encoded data removed]",
            "text/plain": [
              "<Figure size 432x288 with 1 Axes>"
            ]
          },
          "metadata": {
            "tags": [],
            "needs_background": "light"
          }
        }
      ]
    },
    {
      "cell_type": "code",
      "metadata": {
        "colab": {
          "base_uri": "https://localhost:8080/",
          "height": 282
        },
        "id": "dEAe3wsaJD1N",
        "outputId": "eba9425e-c9ce-4e0e-b0fe-d079b5c7281a"
      },
      "source": [
        "dfg=maindf.tolist()\n",
        "dfg.extend(lst_output)\n",
        "plt.plot(dfg[870:])"
      ],
      "execution_count": 215,
      "outputs": [
        {
          "output_type": "execute_result",
          "data": {
            "text/plain": [
              "[<matplotlib.lines.Line2D at 0x7f1ccd8ad9d0>]"
            ]
          },
          "metadata": {
            "tags": []
          },
          "execution_count": 215
        },
        {
          "output_type": "display_data",
          "data": {
            "image/png": "[encoded data removed]",
            "text/plain": [
              "<Figure size 432x288 with 1 Axes>"
            ]
          },
          "metadata": {
            "tags": [],
            "needs_background": "light"
          }
        }
      ]
    },
    {
      "cell_type": "code",
      "metadata": {
        "id": "5U2_OOKCJ4wc"
      },
      "source": [
        ""
      ],
      "execution_count": null,
      "outputs": []
    }
  ]
}